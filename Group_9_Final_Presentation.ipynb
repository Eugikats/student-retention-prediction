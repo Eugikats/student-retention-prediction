{
  "nbformat": 4,
  "nbformat_minor": 0,
  "metadata": {
    "colab": {
      "provenance": [],
      "include_colab_link": true
    },
    "kernelspec": {
      "name": "python3",
      "display_name": "Python 3"
    },
    "language_info": {
      "name": "python"
    }
  },
  "cells": [
    {
      "cell_type": "markdown",
      "metadata": {
        "id": "view-in-github",
        "colab_type": "text"
      },
      "source": [
        "<a href=\"https://colab.research.google.com/github/Eugikats/student-retention-prediction/blob/main/Group_9_Final_Presentation.ipynb\" target=\"_parent\"><img src=\"https://colab.research.google.com/assets/colab-badge.svg\" alt=\"Open In Colab\"/></a>"
      ]
    },
    {
      "cell_type": "markdown",
      "source": [
        "# Problem Recap and Target/Features\n",
        "\n",
        "Stanford's Sentiment Treebank (SST-2) is a binary text classification problem focusing on sentiment analysis. The goal is to predict the sentiment of a given movie review sentence as positive or negative.\n",
        "\n",
        "\n",
        "Target Variable (y): The overall sentiment of the sentence – labeled positive (1) or negative (0).\n",
        "\n",
        "\n",
        "Input Feature (X): The text of the movie review sentence itself. Each data point is one sentence (or phrase) from a Rotten Tomatoes review."
      ],
      "metadata": {
        "id": "nHyaSOt1LWsq"
      }
    },
    {
      "cell_type": "markdown",
      "source": [
        "**Group Members**\n",
        "\n",
        "Eugene Katusiime\n",
        "\n",
        "Stephen Njuki\n",
        "\n",
        "Joshua Kayongo\n",
        "\n",
        "Akwi Tracy Aidah\n",
        "\n",
        "Higenyi Yurri\n",
        "\n",
        "Nabuyondo Hamirat Shibah\n",
        "\n",
        "Alex Wadaba"
      ],
      "metadata": {
        "id": "dKMLC2CvKPBZ"
      }
    },
    {
      "cell_type": "code",
      "source": [
        "import pandas as pd\n",
        "import numpy as np\n",
        "import matplotlib.pyplot as plt\n",
        "import seaborn as sns\n",
        "import tensorflow as tf\n",
        "from tensorflow import keras\n",
        "from tensorflow.keras import layers\n",
        "\n",
        "# ML libraries\n",
        "from sklearn.model_selection import train_test_split, GridSearchCV\n",
        "from sklearn.pipeline import Pipeline\n",
        "from sklearn.compose import ColumnTransformer\n",
        "from sklearn.preprocessing import StandardScaler, OneHotEncoder\n",
        "from sklearn.tree import DecisionTreeClassifier, plot_tree\n",
        "from sklearn.svm import SVC\n",
        "from sklearn.ensemble import RandomForestClassifier\n",
        "from sklearn.linear_model import LogisticRegression\n",
        "from sklearn.metrics import classification_report, confusion_matrix, ConfusionMatrixDisplay\n",
        "from sklearn.impute import SimpleImputer\n",
        "from tensorflow.keras.callbacks import EarlyStopping\n",
        "\n",
        "# Clustering / visualization\n",
        "from scipy.cluster.hierarchy import linkage, dendrogram\n",
        "\n",
        "# Imbalanced learning\n",
        "from imblearn.pipeline import Pipeline as ImbPipeline\n",
        "from imblearn.over_sampling import SMOTE\n"
      ],
      "metadata": {
        "id": "RKJgmacdNSeC"
      },
      "execution_count": 1,
      "outputs": []
    },
    {
      "cell_type": "code",
      "execution_count": 2,
      "metadata": {
        "colab": {
          "base_uri": "https://localhost:8080/",
          "height": 0
        },
        "id": "MRZM18zIJuB1",
        "outputId": "e477e59f-4cfe-488e-941c-794d47aa0c45"
      },
      "outputs": [
        {
          "output_type": "stream",
          "name": "stdout",
          "text": [
            "Mounted at /content/drive\n"
          ]
        }
      ],
      "source": [
        "# connect to google drive\n",
        "from google.colab import drive\n",
        "drive.mount('/content/drive')"
      ]
    },
    {
      "cell_type": "markdown",
      "source": [
        "## Dataset Description\n",
        "\n",
        "For this project, we used the **UWIZA 2015 dataset**, a socio-economic and education-focused survey conducted in Uganda. The dataset is particularly relevant to our research objective of predicting school dropout, as it contains rich information at **household, school, and village levels**.\n",
        "\n",
        "The raw data was provided in three files:\n",
        "\n",
        "- **Household data (`ug15_hhld.csv`)** – demographic characteristics, education levels, household composition, assets, and living conditions.  \n",
        "- **School data (`ug15_school.csv`)** – school attendance, grade progression, and related factors.  \n",
        "- **Village data (`ug15_village.csv`)** – community-level indicators such as infrastructure and services.  \n",
        "\n",
        "After merging these datasets on common identifiers (household, district, village, and region), the combined dataset contained **47,048 records and 456 variables**. From this, we selected a subset of **30 features** most relevant to dropout prediction, covering:\n",
        "\n",
        "- **Individual-level features:** age, gender, disability, biological parents, mother’s education, mother’s schooling history.  \n",
        "- **Household-level features:** household size, composition, head’s age/gender/education, and assets (TV, radio, phone, bicycle, livestock, etc.).  \n",
        "- **Environmental features:** water source, sanitation, urban/rural code, district and region names.  \n",
        "\n",
        "The **target variable** is `dropout`, a binary label indicating whether a student dropped out (“Yes”) or remained in school (“No”).  \n",
        "\n",
        "Since the original dataset was imbalanced, we balanced it by sampling equal numbers of cases from both classes. The final analysis dataset contains **1,948 observations** (974 “Yes” and 974 “No”) and **30 features**, providing a manageable yet diverse set of socio-economic, demographic, and educational variables for modeling.  \n"
      ],
      "metadata": {
        "id": "_1yCdZgVBPGp"
      }
    },
    {
      "cell_type": "code",
      "source": [
        "# Define paths\n",
        "base_path = \"/content/drive/MyDrive/Classroom/Group 9/Final Group Assignment/\"\n",
        "path_hh = f\"{base_path}ug15_hhld.csv\"\n",
        "path_school = f\"{base_path}ug15_school.csv\"\n",
        "path_village = f\"{base_path}ug15_village.csv\""
      ],
      "metadata": {
        "id": "fhJlCNPO4g73"
      },
      "execution_count": 3,
      "outputs": []
    },
    {
      "cell_type": "code",
      "source": [
        "# Load random sample\n",
        "sample_size = 20000\n",
        "df_hh = pd.read_csv(path_hh, low_memory=False).sample(n=sample_size, random_state=42)\n",
        "df_school = pd.read_csv(path_school, low_memory=False).sample(n=sample_size, random_state=42)\n",
        "df_village = pd.read_csv(path_village, low_memory=False).sample(n=sample_size, random_state=42)\n",
        "\n",
        "# Quick preview\n",
        "print(df_hh.shape, df_school.shape, df_village.shape)\n",
        "print(df_hh.head(), df_school.head(), df_village.head())"
      ],
      "metadata": {
        "colab": {
          "base_uri": "https://localhost:8080/",
          "height": 0
        },
        "id": "7RrdJrZJ4ru-",
        "outputId": "2e1f4c3c-39a9-4398-9932-0ae2a521bd60"
      },
      "execution_count": 4,
      "outputs": [
        {
          "output_type": "stream",
          "name": "stdout",
          "text": [
            "(20000, 156) (20000, 156) (20000, 156)\n",
            "       id_database  id_district id_districtName    id_hh id_regionName  \\\n",
            "40381         UG15          226         Buyende  1478006       Eastern   \n",
            "20123         UG15          201          Bugiri   739017       Eastern   \n",
            "40280         UG15          226         Buyende  1493011       Eastern   \n",
            "134936        UG15          231           Ngora  1626020       Eastern   \n",
            "155826        UG15          215         Sironko  1164010       Eastern   \n",
            "\n",
            "        id_village  county_code1          county  parishcode  subcounty_code  \\\n",
            "40381         1478             1         BUDIOPE           9               1   \n",
            "20123          739             1  BUKOOLI  NORTH           9               8   \n",
            "40280         1493             1         BUDIOPE           4               6   \n",
            "134936        1626             1           NGORA          14               1   \n",
            "155826        1164             1        BUDADIRI           2              19   \n",
            "\n",
            "        ... noHhldsInEA noEAsInDistrict  noDistricts english_imputed  \\\n",
            "40381   ...          11              30          112             NaN   \n",
            "20123   ...          19              30          112             NaN   \n",
            "40280   ...          18              30          112       Paragraph   \n",
            "134936  ...          16              30          112             NaN   \n",
            "155826  ...          14              30          112           Story   \n",
            "\n",
            "        english1_imputed  english2_imputed    math_imputed  bonus1_imputed  \\\n",
            "40381                NaN               NaN             NaN             NaN   \n",
            "20123                NaN               NaN             NaN             NaN   \n",
            "40280          Cannot do         Cannot do          Divide          Can do   \n",
            "134936               NaN               NaN             NaN             NaN   \n",
            "155826            Can do            Can do  Multiplication          Can do   \n",
            "\n",
            "        bonus2_imputed  bonus3_imputed  \n",
            "40381              NaN             NaN  \n",
            "20123              NaN             NaN  \n",
            "40280           Can do          Can do  \n",
            "134936             NaN             NaN  \n",
            "155826          Can do          Can do  \n",
            "\n",
            "[5 rows x 156 columns]        id_database  id_district id_districtName    id_hh id_regionName  \\\n",
            "40381         UG15          226         Buyende  1478006       Eastern   \n",
            "20123         UG15          201          Bugiri   739017       Eastern   \n",
            "40280         UG15          226         Buyende  1493011       Eastern   \n",
            "134936        UG15          231           Ngora  1626020       Eastern   \n",
            "155826        UG15          215         Sironko  1164010       Eastern   \n",
            "\n",
            "        id_village  county_code1          county  parishcode  subcounty_code  \\\n",
            "40381         1478             1         BUDIOPE           9               1   \n",
            "20123          739             1  BUKOOLI  NORTH           9               8   \n",
            "40280         1493             1         BUDIOPE           4               6   \n",
            "134936        1626             1           NGORA          14               1   \n",
            "155826        1164             1        BUDADIRI           2              19   \n",
            "\n",
            "        ... noHhldsInEA noEAsInDistrict  noDistricts english_imputed  \\\n",
            "40381   ...          11              30          112             NaN   \n",
            "20123   ...          19              30          112             NaN   \n",
            "40280   ...          18              30          112       Paragraph   \n",
            "134936  ...          16              30          112             NaN   \n",
            "155826  ...          14              30          112           Story   \n",
            "\n",
            "        english1_imputed  english2_imputed    math_imputed  bonus1_imputed  \\\n",
            "40381                NaN               NaN             NaN             NaN   \n",
            "20123                NaN               NaN             NaN             NaN   \n",
            "40280          Cannot do         Cannot do          Divide          Can do   \n",
            "134936               NaN               NaN             NaN             NaN   \n",
            "155826            Can do            Can do  Multiplication          Can do   \n",
            "\n",
            "        bonus2_imputed  bonus3_imputed  \n",
            "40381              NaN             NaN  \n",
            "20123              NaN             NaN  \n",
            "40280           Can do          Can do  \n",
            "134936             NaN             NaN  \n",
            "155826          Can do          Can do  \n",
            "\n",
            "[5 rows x 156 columns]        id_database  id_district id_districtName    id_hh id_regionName  \\\n",
            "40381         UG15          226         Buyende  1478006       Eastern   \n",
            "20123         UG15          201          Bugiri   739017       Eastern   \n",
            "40280         UG15          226         Buyende  1493011       Eastern   \n",
            "134936        UG15          231           Ngora  1626020       Eastern   \n",
            "155826        UG15          215         Sironko  1164010       Eastern   \n",
            "\n",
            "        id_village  county_code1          county  parishcode  subcounty_code  \\\n",
            "40381         1478             1         BUDIOPE           9               1   \n",
            "20123          739             1  BUKOOLI  NORTH           9               8   \n",
            "40280         1493             1         BUDIOPE           4               6   \n",
            "134936        1626             1           NGORA          14               1   \n",
            "155826        1164             1        BUDADIRI           2              19   \n",
            "\n",
            "        ... noHhldsInEA noEAsInDistrict  noDistricts english_imputed  \\\n",
            "40381   ...          11              30          112             NaN   \n",
            "20123   ...          19              30          112             NaN   \n",
            "40280   ...          18              30          112       Paragraph   \n",
            "134936  ...          16              30          112             NaN   \n",
            "155826  ...          14              30          112           Story   \n",
            "\n",
            "        english1_imputed  english2_imputed    math_imputed  bonus1_imputed  \\\n",
            "40381                NaN               NaN             NaN             NaN   \n",
            "20123                NaN               NaN             NaN             NaN   \n",
            "40280          Cannot do         Cannot do          Divide          Can do   \n",
            "134936               NaN               NaN             NaN             NaN   \n",
            "155826            Can do            Can do  Multiplication          Can do   \n",
            "\n",
            "        bonus2_imputed  bonus3_imputed  \n",
            "40381              NaN             NaN  \n",
            "20123              NaN             NaN  \n",
            "40280           Can do          Can do  \n",
            "134936             NaN             NaN  \n",
            "155826          Can do          Can do  \n",
            "\n",
            "[5 rows x 156 columns]\n"
          ]
        }
      ]
    },
    {
      "cell_type": "code",
      "source": [
        "# Merge Datasets\n",
        "merge_keys = [\"id_database\",\"id_district\",\"id_districtName\",\"id_hh\",\"id_regionName\",\"id_village\"]\n",
        "\n",
        "df_hh_school = df_hh.merge(df_school, on=merge_keys, suffixes=('_hh','_sch'))\n",
        "df_master = df_hh_school.merge(df_village, on=merge_keys, suffixes=('', '_vill'))\n",
        "\n",
        "print(\"Merged shape:\", df_master.shape)\n",
        "print(df_master.columns.tolist())"
      ],
      "metadata": {
        "colab": {
          "base_uri": "https://localhost:8080/",
          "height": 0
        },
        "id": "5bZerON341qk",
        "outputId": "a96a7b9f-74de-44ea-92de-b4350a11e589"
      },
      "execution_count": 5,
      "outputs": [
        {
          "output_type": "stream",
          "name": "stdout",
          "text": [
            "Merged shape: (47048, 456)\n",
            "['id_database', 'id_district', 'id_districtName', 'id_hh', 'id_regionName', 'id_village', 'county_code1_hh', 'county_hh', 'parishcode_hh', 'subcounty_code_hh', 'subcounty_name_hh', 'parish_name_hh', 'locationcode_hh', 'location_hh', 'ea_code_hh', 'eacode_hh', 'village_estate_hh', 'urban_code_hh', 'no_of_hhs_hh', 'males_hh', 'females_hh', 'sample_no_hh', 'ea_code1_hh', 'validationcode_hh', 'date_hh', 'hhno_hh', 'answering_person_hh', 'hh_gender_hh', 'hh_age_hh', 'hh_edu_raw_hh', 'household_visited_hh', 'whichyear_hh', 'home_language_hh', 'hh_size_hh', 'hh_males_hh', 'hh_females_hh', 'house_wall_hh', 'house_lighting_hh', 'asset_toilet_hh', 'mealsPerDay_hh', 'eat_veg_hh', 'eat_fruit_hh', 'drink_milk_hh', 'asset_tv_hh', 'asset_radio_hh', 'asset_computer_hh', 'asset_phone_hh', 'asset_car_hh', 'asset_motorbike_hh', 'asset_bicycle_hh', 'asset_cattle_hh', 'asset_sheep_goat_hh', 'h107_donkey_hh', 'h107_camel_hh', 'h107_pig_hh', 'h107other_hh', 'water_source_hh', 'water_source_distance_hh', 'treat_water_hh', 'h201_1_hh', 'h201_2_hh', 'h201_3_hh', 'h201_4_hh', 'h201_5_hh', 'h201_6_hh', 'h201_7_hh', 'h201_8other_hh', 'h301a_1_hh', 'h301a_2_hh', 'h301b_1_hh', 'h301b_2_hh', 'h301c_1_hh', 'h301c_2_hh', 'h301d_1_hh', 'h301d_2_hh', 'h301e_1_hh', 'h301e_2_hh', 'h301f_1_hh', 'h301f_2_hh', 'h301g_1_hh', 'h301g_2_hh', 'h301other_hh', 'h302a_hh', 'h302b_hh', 'h302c_hh', 'h302d_hh', 'h302e_hh', 'h303_hh', 'h304_hh', 'h305_hh', 'h306_hh', 'h307_hh', 'h308_hh', 'h308other_hh', 'h1600_hh', 'h1700_hh', 'childNo_hh', 'age_hh', 'gender_hh', 'biological_parents_hh', 'h600_hh', 'disability_hh', 'mothers_toschool_hh', 'preschool_hh', 'schooltype_hh', 'tuition_hh', 'schoolmatch_hh', 'completed_primary_hh', 'completed_secondary_hh', 'neverenrolled_hh', 'dropout_hh', 'dropout_year_hh', 'h1100_hh', 'attendYesterday_hh', 'mathTeachYesterday_hh', 'testSample_hh', 'english_hh', 'english1_hh', 'english2_hh', 'locallanguage_hh', 'locallanguage1_hh', 'locallanguage2_hh', 'math_hh', 'ethnomath1_hh', 'ethnomath2_hh', 'bonus1_hh', 'bonus2_hh', 'bonus3_hh', 'right_eye_hh', 'left_eye_hh', 'asset_elec_hh', 'asset_water_hh', 'mothers_edu_raw_hh', 'mothers_edu_hh', 'grade_hh', 'dropout_class_hh', 'enr_ans_hh', 'hh_edu_hh', 'hh_children_hh', 'weight_hh', 'district_noHhlds_hh', 'h1601_hh', 'division_name_hh', 'sub_location_hh', 'noSchoolData_hh', 'district_name_hh', 'noHhldsInEA_hh', 'noEAsInDistrict_hh', 'noDistricts_hh', 'english_imputed_hh', 'english1_imputed_hh', 'english2_imputed_hh', 'math_imputed_hh', 'bonus1_imputed_hh', 'bonus2_imputed_hh', 'bonus3_imputed_hh', 'county_code1_sch', 'county_sch', 'parishcode_sch', 'subcounty_code_sch', 'subcounty_name_sch', 'parish_name_sch', 'locationcode_sch', 'location_sch', 'ea_code_sch', 'eacode_sch', 'village_estate_sch', 'urban_code_sch', 'no_of_hhs_sch', 'males_sch', 'females_sch', 'sample_no_sch', 'ea_code1_sch', 'validationcode_sch', 'date_sch', 'hhno_sch', 'answering_person_sch', 'hh_gender_sch', 'hh_age_sch', 'hh_edu_raw_sch', 'household_visited_sch', 'whichyear_sch', 'home_language_sch', 'hh_size_sch', 'hh_males_sch', 'hh_females_sch', 'house_wall_sch', 'house_lighting_sch', 'asset_toilet_sch', 'mealsPerDay_sch', 'eat_veg_sch', 'eat_fruit_sch', 'drink_milk_sch', 'asset_tv_sch', 'asset_radio_sch', 'asset_computer_sch', 'asset_phone_sch', 'asset_car_sch', 'asset_motorbike_sch', 'asset_bicycle_sch', 'asset_cattle_sch', 'asset_sheep_goat_sch', 'h107_donkey_sch', 'h107_camel_sch', 'h107_pig_sch', 'h107other_sch', 'water_source_sch', 'water_source_distance_sch', 'treat_water_sch', 'h201_1_sch', 'h201_2_sch', 'h201_3_sch', 'h201_4_sch', 'h201_5_sch', 'h201_6_sch', 'h201_7_sch', 'h201_8other_sch', 'h301a_1_sch', 'h301a_2_sch', 'h301b_1_sch', 'h301b_2_sch', 'h301c_1_sch', 'h301c_2_sch', 'h301d_1_sch', 'h301d_2_sch', 'h301e_1_sch', 'h301e_2_sch', 'h301f_1_sch', 'h301f_2_sch', 'h301g_1_sch', 'h301g_2_sch', 'h301other_sch', 'h302a_sch', 'h302b_sch', 'h302c_sch', 'h302d_sch', 'h302e_sch', 'h303_sch', 'h304_sch', 'h305_sch', 'h306_sch', 'h307_sch', 'h308_sch', 'h308other_sch', 'h1600_sch', 'h1700_sch', 'childNo_sch', 'age_sch', 'gender_sch', 'biological_parents_sch', 'h600_sch', 'disability_sch', 'mothers_toschool_sch', 'preschool_sch', 'schooltype_sch', 'tuition_sch', 'schoolmatch_sch', 'completed_primary_sch', 'completed_secondary_sch', 'neverenrolled_sch', 'dropout_sch', 'dropout_year_sch', 'h1100_sch', 'attendYesterday_sch', 'mathTeachYesterday_sch', 'testSample_sch', 'english_sch', 'english1_sch', 'english2_sch', 'locallanguage_sch', 'locallanguage1_sch', 'locallanguage2_sch', 'math_sch', 'ethnomath1_sch', 'ethnomath2_sch', 'bonus1_sch', 'bonus2_sch', 'bonus3_sch', 'right_eye_sch', 'left_eye_sch', 'asset_elec_sch', 'asset_water_sch', 'mothers_edu_raw_sch', 'mothers_edu_sch', 'grade_sch', 'dropout_class_sch', 'enr_ans_sch', 'hh_edu_sch', 'hh_children_sch', 'weight_sch', 'district_noHhlds_sch', 'h1601_sch', 'division_name_sch', 'sub_location_sch', 'noSchoolData_sch', 'district_name_sch', 'noHhldsInEA_sch', 'noEAsInDistrict_sch', 'noDistricts_sch', 'english_imputed_sch', 'english1_imputed_sch', 'english2_imputed_sch', 'math_imputed_sch', 'bonus1_imputed_sch', 'bonus2_imputed_sch', 'bonus3_imputed_sch', 'county_code1', 'county', 'parishcode', 'subcounty_code', 'subcounty_name', 'parish_name', 'locationcode', 'location', 'ea_code', 'eacode', 'village_estate', 'urban_code', 'no_of_hhs', 'males', 'females', 'sample_no', 'ea_code1', 'validationcode', 'date', 'hhno', 'answering_person', 'hh_gender', 'hh_age', 'hh_edu_raw', 'household_visited', 'whichyear', 'home_language', 'hh_size', 'hh_males', 'hh_females', 'house_wall', 'house_lighting', 'asset_toilet', 'mealsPerDay', 'eat_veg', 'eat_fruit', 'drink_milk', 'asset_tv', 'asset_radio', 'asset_computer', 'asset_phone', 'asset_car', 'asset_motorbike', 'asset_bicycle', 'asset_cattle', 'asset_sheep_goat', 'h107_donkey', 'h107_camel', 'h107_pig', 'h107other', 'water_source', 'water_source_distance', 'treat_water', 'h201_1', 'h201_2', 'h201_3', 'h201_4', 'h201_5', 'h201_6', 'h201_7', 'h201_8other', 'h301a_1', 'h301a_2', 'h301b_1', 'h301b_2', 'h301c_1', 'h301c_2', 'h301d_1', 'h301d_2', 'h301e_1', 'h301e_2', 'h301f_1', 'h301f_2', 'h301g_1', 'h301g_2', 'h301other', 'h302a', 'h302b', 'h302c', 'h302d', 'h302e', 'h303', 'h304', 'h305', 'h306', 'h307', 'h308', 'h308other', 'h1600', 'h1700', 'childNo', 'age', 'gender', 'biological_parents', 'h600', 'disability', 'mothers_toschool', 'preschool', 'schooltype', 'tuition', 'schoolmatch', 'completed_primary', 'completed_secondary', 'neverenrolled', 'dropout', 'dropout_year', 'h1100', 'attendYesterday', 'mathTeachYesterday', 'testSample', 'english', 'english1', 'english2', 'locallanguage', 'locallanguage1', 'locallanguage2', 'math', 'ethnomath1', 'ethnomath2', 'bonus1', 'bonus2', 'bonus3', 'right_eye', 'left_eye', 'asset_elec', 'asset_water', 'mothers_edu_raw', 'mothers_edu', 'grade', 'dropout_class', 'enr_ans', 'hh_edu', 'hh_children', 'weight', 'district_noHhlds', 'h1601', 'division_name', 'sub_location', 'noSchoolData', 'district_name', 'noHhldsInEA', 'noEAsInDistrict', 'noDistricts', 'english_imputed', 'english1_imputed', 'english2_imputed', 'math_imputed', 'bonus1_imputed', 'bonus2_imputed', 'bonus3_imputed']\n"
          ]
        }
      ]
    },
    {
      "cell_type": "code",
      "source": [
        "# Feature and target selection\n",
        "selected_cols = [\n",
        "    \"dropout\", \"age\", \"gender\", \"disability\", \"biological_parents\",\n",
        "    \"mothers_edu\", \"mothers_toschool\", \"hh_edu\", \"hh_gender\", \"hh_age\",\n",
        "    \"hh_size\", \"hh_males\", \"hh_females\", \"asset_tv\", \"asset_radio\",\n",
        "    \"asset_computer\", \"asset_phone\", \"asset_car\", \"asset_motorbike\",\n",
        "    \"asset_bicycle\", \"asset_cattle\", \"asset_sheep_goat\", \"asset_elec\",\n",
        "    \"asset_water\", \"asset_toilet\", \"water_source\", \"water_source_distance\",\n",
        "    \"id_regionName\", \"id_districtName\", \"urban_code\"\n",
        "]\n",
        "\n",
        "available_cols = [col for col in selected_cols if col in df_master.columns]\n",
        "df_filtered = df_master[available_cols].copy()\n",
        "\n",
        "# Drop rows with missing target and keep Yes/No only\n",
        "df_filtered = df_filtered.dropna(subset=[\"dropout\"])\n",
        "df_filtered = df_filtered[df_filtered[\"dropout\"].isin([\"Yes\", \"No\"])]\n"
      ],
      "metadata": {
        "id": "scRYL97L4_SN"
      },
      "execution_count": 6,
      "outputs": []
    },
    {
      "cell_type": "code",
      "source": [
        "# Separate classes\n",
        "df_yes = df_filtered[df_filtered[\"dropout\"] == \"Yes\"]\n",
        "df_no  = df_filtered[df_filtered[\"dropout\"] == \"No\"]\n",
        "\n",
        "# Sample each class for balance\n",
        "n_samples = min(len(df_yes), len(df_no), 1000)  # adjust 1000 if needed\n",
        "df_yes_balanced = df_yes.sample(n_samples, random_state=42)\n",
        "df_no_balanced  = df_no.sample(n_samples, random_state=42)\n",
        "\n",
        "# Combine and shuffle\n",
        "df_final = pd.concat([df_yes_balanced, df_no_balanced]).sample(frac=1, random_state=42)\n",
        "\n",
        "# Check\n",
        "print(\"Final dataset shape:\", df_final.shape)\n",
        "print(df_final[\"dropout\"].value_counts())\n",
        "\n",
        "# Save\n",
        "df_final.to_csv(f\"{base_path}df_final.csv\", index=False)"
      ],
      "metadata": {
        "colab": {
          "base_uri": "https://localhost:8080/",
          "height": 0
        },
        "id": "rNHI0rmK5Kld",
        "outputId": "3d4c8c1b-7018-40d1-d201-a0ea601a93a1"
      },
      "execution_count": 7,
      "outputs": [
        {
          "output_type": "stream",
          "name": "stdout",
          "text": [
            "Final dataset shape: (1948, 30)\n",
            "dropout\n",
            "No     974\n",
            "Yes    974\n",
            "Name: count, dtype: int64\n"
          ]
        }
      ]
    },
    {
      "cell_type": "code",
      "metadata": {
        "colab": {
          "base_uri": "https://localhost:8080/",
          "height": 0
        },
        "id": "37719242",
        "outputId": "572ec12d-3674-4266-c258-893e02b12369"
      },
      "source": [
        "print(df_final.columns.tolist())"
      ],
      "execution_count": 8,
      "outputs": [
        {
          "output_type": "stream",
          "name": "stdout",
          "text": [
            "['dropout', 'age', 'gender', 'disability', 'biological_parents', 'mothers_edu', 'mothers_toschool', 'hh_edu', 'hh_gender', 'hh_age', 'hh_size', 'hh_males', 'hh_females', 'asset_tv', 'asset_radio', 'asset_computer', 'asset_phone', 'asset_car', 'asset_motorbike', 'asset_bicycle', 'asset_cattle', 'asset_sheep_goat', 'asset_elec', 'asset_water', 'asset_toilet', 'water_source', 'water_source_distance', 'id_regionName', 'id_districtName', 'urban_code']\n"
          ]
        }
      ]
    },
    {
      "cell_type": "markdown",
      "source": [
        "## EDA\n",
        "By Alex Wadaba"
      ],
      "metadata": {
        "id": "eU3OlIUs_7Eb"
      }
    },
    {
      "cell_type": "code",
      "source": [
        "# Step 1: Basic Overview\n",
        "print(\"Shape of dataset:\", df_final.shape)\n",
        "print(\"\\nMissing values per column:\\n\", df_final.isna().sum())\n",
        "print(\"\\nSummary statistics (numerical features):\\n\", df_final.describe())"
      ],
      "metadata": {
        "colab": {
          "base_uri": "https://localhost:8080/",
          "height": 0
        },
        "id": "jqza-y9wBRSN",
        "outputId": "f2773551-97c3-490a-cb40-879d73c93df8"
      },
      "execution_count": 9,
      "outputs": [
        {
          "output_type": "stream",
          "name": "stdout",
          "text": [
            "Shape of dataset: (1948, 30)\n",
            "\n",
            "Missing values per column:\n",
            " dropout                    0\n",
            "age                        0\n",
            "gender                     0\n",
            "disability                11\n",
            "biological_parents        13\n",
            "mothers_edu              835\n",
            "mothers_toschool         159\n",
            "hh_edu                   537\n",
            "hh_gender                 38\n",
            "hh_age                   182\n",
            "hh_size                    4\n",
            "hh_males                  14\n",
            "hh_females                43\n",
            "asset_tv                   0\n",
            "asset_radio                0\n",
            "asset_computer             0\n",
            "asset_phone                0\n",
            "asset_car                  0\n",
            "asset_motorbike            0\n",
            "asset_bicycle              0\n",
            "asset_cattle               0\n",
            "asset_sheep_goat           0\n",
            "asset_elec                 0\n",
            "asset_water                0\n",
            "asset_toilet               0\n",
            "water_source              22\n",
            "water_source_distance     27\n",
            "id_regionName              0\n",
            "id_districtName            0\n",
            "urban_code                 0\n",
            "dtype: int64\n",
            "\n",
            "Summary statistics (numerical features):\n",
            "                age  biological_parents       hh_age      hh_size     hh_males  \\\n",
            "count  1948.000000         1935.000000  1766.000000  1944.000000  1934.000000   \n",
            "mean     11.319815            1.564858    41.562288     8.071502     3.777146   \n",
            "std       3.634548            0.688061    13.962042     3.223136     2.568357   \n",
            "min       5.000000            0.000000    16.000000     1.000000     0.000000   \n",
            "25%       8.000000            1.000000    31.000000     6.000000     3.000000   \n",
            "50%      12.000000            2.000000    39.000000     8.000000     4.000000   \n",
            "75%      15.000000            2.000000    50.000000    10.000000     5.000000   \n",
            "max      16.000000            2.000000   100.000000    43.000000    22.000000   \n",
            "\n",
            "        hh_females     asset_tv  asset_radio  asset_computer  asset_phone  \\\n",
            "count  1905.000000  1948.000000  1948.000000     1948.000000  1948.000000   \n",
            "mean      4.089764     0.064682     0.574949        0.012320     0.604723   \n",
            "std       2.052060     0.246027     0.494478        0.110339     0.489036   \n",
            "min       1.000000     0.000000     0.000000        0.000000     0.000000   \n",
            "25%       3.000000     0.000000     0.000000        0.000000     0.000000   \n",
            "50%       4.000000     0.000000     1.000000        0.000000     1.000000   \n",
            "75%       5.000000     0.000000     1.000000        0.000000     1.000000   \n",
            "max      24.000000     1.000000     1.000000        1.000000     1.000000   \n",
            "\n",
            "         asset_car  asset_motorbike  asset_bicycle  asset_cattle  \\\n",
            "count  1948.000000      1948.000000    1948.000000   1948.000000   \n",
            "mean      0.018480         0.090862       0.446099      0.331109   \n",
            "std       0.134716         0.287487       0.497214      0.470733   \n",
            "min       0.000000         0.000000       0.000000      0.000000   \n",
            "25%       0.000000         0.000000       0.000000      0.000000   \n",
            "50%       0.000000         0.000000       0.000000      0.000000   \n",
            "75%       0.000000         0.000000       1.000000      1.000000   \n",
            "max       1.000000         1.000000       1.000000      1.000000   \n",
            "\n",
            "       asset_sheep_goat   asset_elec  asset_water   urban_code  \n",
            "count       1948.000000  1948.000000  1948.000000  1948.000000  \n",
            "mean           0.494867     0.197125     0.560575     1.106776  \n",
            "std            0.500102     0.397930     0.496445     0.308908  \n",
            "min            0.000000     0.000000     0.000000     1.000000  \n",
            "25%            0.000000     0.000000     0.000000     1.000000  \n",
            "50%            0.000000     0.000000     1.000000     1.000000  \n",
            "75%            1.000000     0.000000     1.000000     1.000000  \n",
            "max            1.000000     1.000000     1.000000     2.000000  \n"
          ]
        }
      ]
    },
    {
      "cell_type": "markdown",
      "source": [
        "From our above analysis, we realise that we need to work on the missing values in columns like hh_age, disability e.t.c."
      ],
      "metadata": {
        "id": "Uct1HzHpDJjr"
      }
    },
    {
      "cell_type": "code",
      "source": [
        "# Map categories to ordinal values\n",
        "distance_map = {\n",
        "    \"<20min\": 1,\n",
        "    \"20-30min\": 2,\n",
        "    \"30-60min\": 3,\n",
        "    \">60min\": 4\n",
        "}\n",
        "\n",
        "df_final[\"water_source_distance\"] = df_final[\"water_source_distance\"].map(distance_map)"
      ],
      "metadata": {
        "id": "sYJqqHjzFwOj"
      },
      "execution_count": 10,
      "outputs": []
    },
    {
      "cell_type": "code",
      "source": [
        "# Impute categorical (mode)\n",
        "cat_mode_cols = [\"disability\", \"biological_parents\", \"mothers_toschool\", \"hh_gender\", \"water_source\"]\n",
        "mode_imputer = SimpleImputer(strategy=\"most_frequent\")\n",
        "df_final[cat_mode_cols] = mode_imputer.fit_transform(df_final[cat_mode_cols])\n",
        "\n",
        "# Impute numerical (median)\n",
        "num_median_cols = [\"hh_age\", \"hh_size\", \"hh_males\", \"hh_females\", \"water_source_distance\"]\n",
        "median_imputer = SimpleImputer(strategy=\"median\")\n",
        "df_final[num_median_cols] = median_imputer.fit_transform(df_final[num_median_cols])\n",
        "\n",
        "# Handle mothers_edu by filling 'Unknown'\n",
        "df_final[\"mothers_edu\"] = df_final[\"mothers_edu\"].fillna(\"Unknown\")\n",
        "\n",
        "# Handle hh_edu by filling 'Unknown'\n",
        "df_final[\"hh_edu\"] = df_final[\"hh_edu\"].fillna(\"Unknown\")\n",
        "\n",
        "# Final check\n",
        "print(\"Remaining missing values:\\n\", df_final.isna().sum().sum())\n",
        "print(\"New shape:\", df_final.shape)\n"
      ],
      "metadata": {
        "colab": {
          "base_uri": "https://localhost:8080/",
          "height": 0
        },
        "id": "Akg51y3FDT1S",
        "outputId": "f09f8349-5c33-4c79-c89a-9e32fde0a491"
      },
      "execution_count": 11,
      "outputs": [
        {
          "output_type": "stream",
          "name": "stdout",
          "text": [
            "Remaining missing values:\n",
            " 0\n",
            "New shape: (1948, 30)\n"
          ]
        }
      ]
    },
    {
      "cell_type": "code",
      "source": [
        "print(df_final[\"hh_edu\"].head())\n",
        "print(df_final[\"hh_edu\"].dtype)"
      ],
      "metadata": {
        "colab": {
          "base_uri": "https://localhost:8080/",
          "height": 0
        },
        "id": "2y24h9UbFJSQ",
        "outputId": "3d5f84e9-f400-4952-abe4-6be15df7d1d3"
      },
      "execution_count": 12,
      "outputs": [
        {
          "output_type": "stream",
          "name": "stdout",
          "text": [
            "19321    Unknown\n",
            "33869    Primary\n",
            "21545    Unknown\n",
            "18759    Unknown\n",
            "36088    Unknown\n",
            "Name: hh_edu, dtype: object\n",
            "object\n"
          ]
        }
      ]
    },
    {
      "cell_type": "markdown",
      "source": [
        "## Univariate Analysis"
      ],
      "metadata": {
        "id": "hJOg6m6RGgJa"
      }
    },
    {
      "cell_type": "code",
      "source": [
        "# Target variable distribution\n",
        "df_final['dropout'].value_counts().plot(kind='bar')\n",
        "plt.title(\"Distribution of Target Variable (Dropout)\")\n",
        "plt.xlabel(\"Dropout\")\n",
        "plt.ylabel(\"Count\")\n",
        "plt.show()\n"
      ],
      "metadata": {
        "colab": {
          "base_uri": "https://localhost:8080/",
          "height": 480
        },
        "id": "M6wkfF07GjJ5",
        "outputId": "026dcfb7-e052-40f2-8e6f-34269dfa7a53"
      },
      "execution_count": 13,
      "outputs": [
        {
          "output_type": "display_data",
          "data": {
            "text/plain": [
              "<Figure size 640x480 with 1 Axes>"
            ],
            "image/png": "[encoded data removed]"
          },
          "metadata": {}
        }
      ]
    },
    {
      "cell_type": "markdown",
      "source": [
        "**Dropout Distribution**\n",
        "\n",
        "This graph shows how many students stayed in school compared to how many dropped out.\n",
        "The majority of students continued their studies, which is good news, but there is still a significant number who left school.\n",
        "This tells us that while most students are managing to stay enrolled, dropout is still a serious issue that deserves attention because each dropout represents a lost opportunity for the child, their family, and society."
      ],
      "metadata": {
        "id": "ZvywA6F_Rqbh"
      }
    },
    {
      "cell_type": "code",
      "source": [
        "# Example: Age distribution\n",
        "plt.hist(df_final['age'], bins=20, edgecolor='black')\n",
        "plt.title(\"Distribution of Age\")\n",
        "plt.xlabel(\"Age\")\n",
        "plt.ylabel(\"Frequency\")\n",
        "plt.show()"
      ],
      "metadata": {
        "colab": {
          "base_uri": "https://localhost:8080/",
          "height": 472
        },
        "id": "CW-BppiuGqSS",
        "outputId": "5ca22e8f-b3df-4ce8-c3bc-eaefb5129f90"
      },
      "execution_count": 14,
      "outputs": [
        {
          "output_type": "display_data",
          "data": {
            "text/plain": [
              "<Figure size 640x480 with 1 Axes>"
            ],
            "image/png": "[encoded data removed]"
          },
          "metadata": {}
        }
      ]
    },
    {
      "cell_type": "markdown",
      "source": [
        "**Age Distribution**\n",
        "\n",
        "Here we see the different ages of the students.\n",
        "\n",
        "Most students are grouped around the typical school going ages, but there are also a few who are either younger or older than expected.\n",
        "This is important because dropout can sometimes be higher among older students who are under pressure to work, or among younger students who may struggle to adapt in school. Understanding the age spread helps us see at which stage of schooling children are most at risk."
      ],
      "metadata": {
        "id": "6JxITeS4R4lv"
      }
    },
    {
      "cell_type": "code",
      "source": [
        "# Example: Household size distribution\n",
        "plt.hist(df_final['hh_size'], bins=20, edgecolor='black')\n",
        "plt.title(\"Distribution of Household Size\")\n",
        "plt.xlabel(\"Household Size\")\n",
        "plt.ylabel(\"Frequency\")\n",
        "plt.show()\n"
      ],
      "metadata": {
        "colab": {
          "base_uri": "https://localhost:8080/",
          "height": 472
        },
        "id": "AHyrnpE_Gt2Y",
        "outputId": "81fd2e09-9a21-4071-a720-31e4bf856f5d"
      },
      "execution_count": 15,
      "outputs": [
        {
          "output_type": "display_data",
          "data": {
            "text/plain": [
              "<Figure size 640x480 with 1 Axes>"
            ],
            "image/png": "[encoded data removed]"
          },
          "metadata": {}
        }
      ]
    },
    {
      "cell_type": "markdown",
      "source": [
        "**Household Size Distribution**\n",
        "\n",
        "This graph shows how many people live in each student’s household.\n",
        "\n",
        "Many students come from average-sized families, but there are also some from very large households.\n",
        "Large families often face more financial challenges, and children from such homes may be more vulnerable to dropping out because parents might prioritize household survival over education. This highlights the role that family circumstances play in shaping a child’s school journey."
      ],
      "metadata": {
        "id": "VHnMmh7KSSXX"
      }
    },
    {
      "cell_type": "code",
      "source": [
        "# Example: Gender distribution\n",
        "df_final['gender'].value_counts().plot(kind='bar')\n",
        "plt.title(\"Distribution of Student Gender\")\n",
        "plt.xlabel(\"Gender\")\n",
        "plt.ylabel(\"Count\")\n",
        "plt.show()"
      ],
      "metadata": {
        "colab": {
          "base_uri": "https://localhost:8080/",
          "height": 484
        },
        "id": "YYG6oWnsGzet",
        "outputId": "65c98cd1-ec14-44b0-86a0-b7413005703f"
      },
      "execution_count": 16,
      "outputs": [
        {
          "output_type": "display_data",
          "data": {
            "text/plain": [
              "<Figure size 640x480 with 1 Axes>"
            ],
            "image/png": "[encoded data removed]"
          },
          "metadata": {}
        }
      ]
    },
    {
      "cell_type": "markdown",
      "source": [
        "**Gender Distribution**\n",
        "\n",
        "This graph shows how many boys and girls are included in the study.\n",
        "\n",
        "Knowing this balance is important because it allows us to see whether dropout is equally spread across both genders or if one group is affected more than the other.\n",
        "For example, if there are more boys in the dataset, then naturally the results may appear more influenced by boys’ experiences, unless we compare dropout rates separately for boys and girls."
      ],
      "metadata": {
        "id": "mjvojQiQSza-"
      }
    },
    {
      "cell_type": "markdown",
      "source": [
        "## Multivariate Analysis"
      ],
      "metadata": {
        "id": "UaEgMx_VG2Ex"
      }
    },
    {
      "cell_type": "code",
      "source": [
        "# Dropout by gender\n",
        "sns.countplot(x=\"gender\", hue=\"dropout\", data=df_final)\n",
        "plt.title(\"Dropout by Gender\")\n",
        "plt.show()"
      ],
      "metadata": {
        "colab": {
          "base_uri": "https://localhost:8080/",
          "height": 472
        },
        "id": "ZxHVqT3SG4w-",
        "outputId": "47864e42-7330-4a6b-f17a-da8489efa3bd"
      },
      "execution_count": 17,
      "outputs": [
        {
          "output_type": "display_data",
          "data": {
            "text/plain": [
              "<Figure size 640x480 with 1 Axes>"
            ],
            "image/png": "[encoded data removed]"
          },
          "metadata": {}
        }
      ]
    },
    {
      "cell_type": "markdown",
      "source": [
        "**Dropout by Gender**\n",
        "\n",
        "This visualization stratifies dropout status by gender to examine potential differences in attrition rates.\n",
        "\n",
        "A higher dropout rate within one gender suggests the presence of gender-specific structural or socio-economic barriers that influence educational persistence.\n",
        "This analysis highlights the need for gender-sensitive interventions in dropout prevention strategies."
      ],
      "metadata": {
        "id": "Fhc2Qa-sUVxV"
      }
    },
    {
      "cell_type": "code",
      "source": [
        "# Dropout by mother’s education\n",
        "sns.countplot(x=\"mothers_edu\", hue=\"dropout\", data=df_final)\n",
        "plt.title(\"Dropout by Mother's Education Level\")\n",
        "plt.show()"
      ],
      "metadata": {
        "colab": {
          "base_uri": "https://localhost:8080/",
          "height": 472
        },
        "id": "VidOE10eHBUT",
        "outputId": "90902b96-d0de-4e83-a57c-986ff1d89a43"
      },
      "execution_count": 18,
      "outputs": [
        {
          "output_type": "display_data",
          "data": {
            "text/plain": [
              "<Figure size 640x480 with 1 Axes>"
            ],
            "image/png": "[encoded data removed]"
          },
          "metadata": {}
        }
      ]
    },
    {
      "cell_type": "markdown",
      "source": [
        "Dropout by Mother’s Education\n",
        "\n",
        "This plot examines the relationship between the mother’s educational attainment and the student’s likelihood of dropping out. The observed trend typically shows that children of more educated mothers exhibit lower dropout rates, indicating a strong intergenerational transmission of educational outcomes. This finding reinforces the role of parental education especially maternal education as a key predictor of student retention."
      ],
      "metadata": {
        "id": "ONl40p3JVHr0"
      }
    },
    {
      "cell_type": "markdown",
      "source": [
        "**Classical ML - RDF**\n",
        "\n",
        "by Stephen Njuki"
      ],
      "metadata": {
        "id": "jkNgv2K_9L40"
      }
    },
    {
      "cell_type": "code",
      "source": [
        "import pandas as pd\n",
        "import numpy as np\n",
        "import matplotlib.pyplot as plt\n",
        "import seaborn as sns\n",
        "from io import StringIO\n",
        "csv_data = \"/content/sample_data/df_final.csv\""
      ],
      "metadata": {
        "id": "DHl16POW9Qx7"
      },
      "execution_count": 48,
      "outputs": []
    },
    {
      "cell_type": "code",
      "source": [
        "df = pd.read_csv(csv_data)\n",
        "df.head()\n",
        "df.dtypes\n",
        "#STEP 1: Cleaning Data\n",
        "#replace empties with NaN\n",
        "df.replace('', np.nan, inplace=True)"
      ],
      "metadata": {
        "id": "WOH8oFIsEjYq"
      },
      "execution_count": 49,
      "outputs": []
    },
    {
      "cell_type": "code",
      "source": [
        "from sklearn.model_selection import train_test_split, GridSearchCV\n",
        "from sklearn.preprocessing import StandardScaler, OneHotEncoder\n",
        "from sklearn.compose import ColumnTransformer\n",
        "from sklearn.pipeline import Pipeline\n",
        "from sklearn.ensemble import RandomForestClassifier\n",
        "from sklearn.metrics import classification_report, confusion_matrix, ConfusionMatrixDisplay\n",
        "\n",
        "# Convert 'dropout' to binary: Yes=1, No=0\n",
        "if 'dropout' in df.columns:\n",
        "    df['dropout'] = df['dropout'].map({'Yes': 1, 'No': 0})\n",
        "\n",
        "# Drop any remaining rows with NaN in target if any\n",
        "df.dropna(subset=['dropout'], inplace=True)\n",
        "\n",
        "X = df.drop('dropout', axis=1)\n",
        "y = df['dropout']\n",
        "\n",
        "categorical_cols = X.select_dtypes(include=['object']).columns\n",
        "numerical_cols = X.select_dtypes(include=['int64', 'float64']).columns\n",
        "\n",
        "for col in numerical_cols:\n",
        "    if col in X.columns:\n",
        "        X[col].fillna(X[col].median(), inplace=True)\n",
        "\n",
        "# Ensure data types are correct\n",
        "for col in numerical_cols:\n",
        "    if col in X.columns:\n",
        "        X[col] = pd.to_numeric(X[col], errors='coerce')\n",
        "\n",
        "# Create preprocessing pipeline\n",
        "preprocessor = ColumnTransformer(\n",
        "    transformers=[\n",
        "        ('num', StandardScaler(), numerical_cols),\n",
        "        ('cat', OneHotEncoder(drop='first', handle_unknown='ignore'), categorical_cols)\n",
        "    ])\n",
        "\n",
        "# Create Random Forest pipeline\n",
        "rf_pipeline = Pipeline([\n",
        "    ('preprocessor', preprocessor),\n",
        "    ('classifier', RandomForestClassifier(random_state=42))\n",
        "])\n",
        "\n",
        "# Split data: 70% train, 20% validation, 10% test\n",
        "X_train, X_temp, y_train, y_temp = train_test_split(X, y, test_size=0.3, random_state=42, stratify=y)\n",
        "X_val, X_test, y_val, y_test = train_test_split(X_temp, y_temp, test_size=0.3333, random_state=42, stratify=y_temp)\n"
      ],
      "metadata": {
        "id": "PsZx1VWuOa_0",
        "colab": {
          "base_uri": "https://localhost:8080/",
          "height": 0
        },
        "outputId": "14b7c793-e09e-4465-d6c4-8f6476a11e40"
      },
      "execution_count": 50,
      "outputs": [
        {
          "output_type": "stream",
          "name": "stderr",
          "text": [
            "/tmp/ipython-input-3536473027.py:23: FutureWarning: A value is trying to be set on a copy of a DataFrame or Series through chained assignment using an inplace method.\n",
            "The behavior will change in pandas 3.0. This inplace method will never work because the intermediate object on which we are setting values always behaves as a copy.\n",
            "\n",
            "For example, when doing 'df[col].method(value, inplace=True)', try using 'df.method({col: value}, inplace=True)' or df[col] = df[col].method(value) instead, to perform the operation inplace on the original object.\n",
            "\n",
            "\n",
            "  X[col].fillna(X[col].median(), inplace=True)\n"
          ]
        }
      ]
    },
    {
      "cell_type": "code",
      "source": [
        "# Train initial model\n",
        "#y_train.head(5)\n",
        "#y_train.dtypes\n",
        "rf_pipeline.fit(X_train, y_train)"
      ],
      "metadata": {
        "id": "3nvOPOonT6O4",
        "colab": {
          "base_uri": "https://localhost:8080/",
          "height": 249
        },
        "outputId": "de8f9670-90c3-4bf6-8a02-f611f7c6ccd5"
      },
      "execution_count": 23,
      "outputs": [
        {
          "output_type": "execute_result",
          "data": {
            "text/plain": [
              "Pipeline(steps=[('preprocessor',\n",
              "                 ColumnTransformer(transformers=[('num', StandardScaler(),\n",
              "                                                  Index(['age', 'biological_parents', 'hh_age', 'hh_size', 'hh_males',\n",
              "       'hh_females', 'asset_tv', 'asset_radio', 'asset_computer',\n",
              "       'asset_phone', 'asset_car', 'asset_motorbike', 'asset_bicycle',\n",
              "       'asset_cattle', 'asset_sheep_goat', 'asset_elec', 'asset_water',\n",
              "       'urban_code'],\n",
              "      dtype='object')),\n",
              "                                                 ('cat',\n",
              "                                                  OneHotEncoder(drop='first',\n",
              "                                                                handle_unknown='ignore'),\n",
              "                                                  Index(['gender', 'disability', 'mothers_edu', 'mothers_toschool', 'hh_edu',\n",
              "       'hh_gender', 'asset_toilet', 'water_source', 'water_source_distance',\n",
              "       'id_regionName', 'id_districtName'],\n",
              "      dtype='object'))])),\n",
              "                ('classifier', RandomForestClassifier(random_state=42))])"
            ],
            "text/html": [
              "<style>#sk-container-id-1 {\n",
              "  /* Definition of color scheme common for light and dark mode */\n",
              "  --sklearn-color-text: #000;\n",
              "  --sklearn-color-text-muted: #666;\n",
              "  --sklearn-color-line: gray;\n",
              "  /* Definition of color scheme for unfitted estimators */\n",
              "  --sklearn-color-unfitted-level-0: #fff5e6;\n",
              "  --sklearn-color-unfitted-level-1: #f6e4d2;\n",
              "  --sklearn-color-unfitted-level-2: #ffe0b3;\n",
              "  --sklearn-color-unfitted-level-3: chocolate;\n",
              "  /* Definition of color scheme for fitted estimators */\n",
              "  --sklearn-color-fitted-level-0: #f0f8ff;\n",
              "  --sklearn-color-fitted-level-1: #d4ebff;\n",
              "  --sklearn-color-fitted-level-2: #b3dbfd;\n",
              "  --sklearn-color-fitted-level-3: cornflowerblue;\n",
              "\n",
              "  /* Specific color for light theme */\n",
              "  --sklearn-color-text-on-default-background: var(--sg-text-color, var(--theme-code-foreground, var(--jp-content-font-color1, black)));\n",
              "  --sklearn-color-background: var(--sg-background-color, var(--theme-background, var(--jp-layout-color0, white)));\n",
              "  --sklearn-color-border-box: var(--sg-text-color, var(--theme-code-foreground, var(--jp-content-font-color1, black)));\n",
              "  --sklearn-color-icon: #696969;\n",
              "\n",
              "  @media (prefers-color-scheme: dark) {\n",
              "    /* Redefinition of color scheme for dark theme */\n",
              "    --sklearn-color-text-on-default-background: var(--sg-text-color, var(--theme-code-foreground, var(--jp-content-font-color1, white)));\n",
              "    --sklearn-color-background: var(--sg-background-color, var(--theme-background, var(--jp-layout-color0, #111)));\n",
              "    --sklearn-color-border-box: var(--sg-text-color, var(--theme-code-foreground, var(--jp-content-font-color1, white)));\n",
              "    --sklearn-color-icon: #878787;\n",
              "  }\n",
              "}\n",
              "\n",
              "#sk-container-id-1 {\n",
              "  color: var(--sklearn-color-text);\n",
              "}\n",
              "\n",
              "#sk-container-id-1 pre {\n",
              "  padding: 0;\n",
              "}\n",
              "\n",
              "#sk-container-id-1 input.sk-hidden--visually {\n",
              "  border: 0;\n",
              "  clip: rect(1px 1px 1px 1px);\n",
              "  clip: rect(1px, 1px, 1px, 1px);\n",
              "  height: 1px;\n",
              "  margin: -1px;\n",
              "  overflow: hidden;\n",
              "  padding: 0;\n",
              "  position: absolute;\n",
              "  width: 1px;\n",
              "}\n",
              "\n",
              "#sk-container-id-1 div.sk-dashed-wrapped {\n",
              "  border: 1px dashed var(--sklearn-color-line);\n",
              "  margin: 0 0.4em 0.5em 0.4em;\n",
              "  box-sizing: border-box;\n",
              "  padding-bottom: 0.4em;\n",
              "  background-color: var(--sklearn-color-background);\n",
              "}\n",
              "\n",
              "#sk-container-id-1 div.sk-container {\n",
              "  /* jupyter's `normalize.less` sets `[hidden] { display: none; }`\n",
              "     but bootstrap.min.css set `[hidden] { display: none !important; }`\n",
              "     so we also need the `!important` here to be able to override the\n",
              "     default hidden behavior on the sphinx rendered scikit-learn.org.\n",
              "     See: https://github.com/scikit-learn/scikit-learn/issues/21755 */\n",
              "  display: inline-block !important;\n",
              "  position: relative;\n",
              "}\n",
              "\n",
              "#sk-container-id-1 div.sk-text-repr-fallback {\n",
              "  display: none;\n",
              "}\n",
              "\n",
              "div.sk-parallel-item,\n",
              "div.sk-serial,\n",
              "div.sk-item {\n",
              "  /* draw centered vertical line to link estimators */\n",
              "  background-image: linear-gradient(var(--sklearn-color-text-on-default-background), var(--sklearn-color-text-on-default-background));\n",
              "  background-size: 2px 100%;\n",
              "  background-repeat: no-repeat;\n",
              "  background-position: center center;\n",
              "}\n",
              "\n",
              "/* Parallel-specific style estimator block */\n",
              "\n",
              "#sk-container-id-1 div.sk-parallel-item::after {\n",
              "  content: \"\";\n",
              "  width: 100%;\n",
              "  border-bottom: 2px solid var(--sklearn-color-text-on-default-background);\n",
              "  flex-grow: 1;\n",
              "}\n",
              "\n",
              "#sk-container-id-1 div.sk-parallel {\n",
              "  display: flex;\n",
              "  align-items: stretch;\n",
              "  justify-content: center;\n",
              "  background-color: var(--sklearn-color-background);\n",
              "  position: relative;\n",
              "}\n",
              "\n",
              "#sk-container-id-1 div.sk-parallel-item {\n",
              "  display: flex;\n",
              "  flex-direction: column;\n",
              "}\n",
              "\n",
              "#sk-container-id-1 div.sk-parallel-item:first-child::after {\n",
              "  align-self: flex-end;\n",
              "  width: 50%;\n",
              "}\n",
              "\n",
              "#sk-container-id-1 div.sk-parallel-item:last-child::after {\n",
              "  align-self: flex-start;\n",
              "  width: 50%;\n",
              "}\n",
              "\n",
              "#sk-container-id-1 div.sk-parallel-item:only-child::after {\n",
              "  width: 0;\n",
              "}\n",
              "\n",
              "/* Serial-specific style estimator block */\n",
              "\n",
              "#sk-container-id-1 div.sk-serial {\n",
              "  display: flex;\n",
              "  flex-direction: column;\n",
              "  align-items: center;\n",
              "  background-color: var(--sklearn-color-background);\n",
              "  padding-right: 1em;\n",
              "  padding-left: 1em;\n",
              "}\n",
              "\n",
              "\n",
              "/* Toggleable style: style used for estimator/Pipeline/ColumnTransformer box that is\n",
              "clickable and can be expanded/collapsed.\n",
              "- Pipeline and ColumnTransformer use this feature and define the default style\n",
              "- Estimators will overwrite some part of the style using the `sk-estimator` class\n",
              "*/\n",
              "\n",
              "/* Pipeline and ColumnTransformer style (default) */\n",
              "\n",
              "#sk-container-id-1 div.sk-toggleable {\n",
              "  /* Default theme specific background. It is overwritten whether we have a\n",
              "  specific estimator or a Pipeline/ColumnTransformer */\n",
              "  background-color: var(--sklearn-color-background);\n",
              "}\n",
              "\n",
              "/* Toggleable label */\n",
              "#sk-container-id-1 label.sk-toggleable__label {\n",
              "  cursor: pointer;\n",
              "  display: flex;\n",
              "  width: 100%;\n",
              "  margin-bottom: 0;\n",
              "  padding: 0.5em;\n",
              "  box-sizing: border-box;\n",
              "  text-align: center;\n",
              "  align-items: start;\n",
              "  justify-content: space-between;\n",
              "  gap: 0.5em;\n",
              "}\n",
              "\n",
              "#sk-container-id-1 label.sk-toggleable__label .caption {\n",
              "  font-size: 0.6rem;\n",
              "  font-weight: lighter;\n",
              "  color: var(--sklearn-color-text-muted);\n",
              "}\n",
              "\n",
              "#sk-container-id-1 label.sk-toggleable__label-arrow:before {\n",
              "  /* Arrow on the left of the label */\n",
              "  content: \"▸\";\n",
              "  float: left;\n",
              "  margin-right: 0.25em;\n",
              "  color: var(--sklearn-color-icon);\n",
              "}\n",
              "\n",
              "#sk-container-id-1 label.sk-toggleable__label-arrow:hover:before {\n",
              "  color: var(--sklearn-color-text);\n",
              "}\n",
              "\n",
              "/* Toggleable content - dropdown */\n",
              "\n",
              "#sk-container-id-1 div.sk-toggleable__content {\n",
              "  max-height: 0;\n",
              "  max-width: 0;\n",
              "  overflow: hidden;\n",
              "  text-align: left;\n",
              "  /* unfitted */\n",
              "  background-color: var(--sklearn-color-unfitted-level-0);\n",
              "}\n",
              "\n",
              "#sk-container-id-1 div.sk-toggleable__content.fitted {\n",
              "  /* fitted */\n",
              "  background-color: var(--sklearn-color-fitted-level-0);\n",
              "}\n",
              "\n",
              "#sk-container-id-1 div.sk-toggleable__content pre {\n",
              "  margin: 0.2em;\n",
              "  border-radius: 0.25em;\n",
              "  color: var(--sklearn-color-text);\n",
              "  /* unfitted */\n",
              "  background-color: var(--sklearn-color-unfitted-level-0);\n",
              "}\n",
              "\n",
              "#sk-container-id-1 div.sk-toggleable__content.fitted pre {\n",
              "  /* unfitted */\n",
              "  background-color: var(--sklearn-color-fitted-level-0);\n",
              "}\n",
              "\n",
              "#sk-container-id-1 input.sk-toggleable__control:checked~div.sk-toggleable__content {\n",
              "  /* Expand drop-down */\n",
              "  max-height: 200px;\n",
              "  max-width: 100%;\n",
              "  overflow: auto;\n",
              "}\n",
              "\n",
              "#sk-container-id-1 input.sk-toggleable__control:checked~label.sk-toggleable__label-arrow:before {\n",
              "  content: \"▾\";\n",
              "}\n",
              "\n",
              "/* Pipeline/ColumnTransformer-specific style */\n",
              "\n",
              "#sk-container-id-1 div.sk-label input.sk-toggleable__control:checked~label.sk-toggleable__label {\n",
              "  color: var(--sklearn-color-text);\n",
              "  background-color: var(--sklearn-color-unfitted-level-2);\n",
              "}\n",
              "\n",
              "#sk-container-id-1 div.sk-label.fitted input.sk-toggleable__control:checked~label.sk-toggleable__label {\n",
              "  background-color: var(--sklearn-color-fitted-level-2);\n",
              "}\n",
              "\n",
              "/* Estimator-specific style */\n",
              "\n",
              "/* Colorize estimator box */\n",
              "#sk-container-id-1 div.sk-estimator input.sk-toggleable__control:checked~label.sk-toggleable__label {\n",
              "  /* unfitted */\n",
              "  background-color: var(--sklearn-color-unfitted-level-2);\n",
              "}\n",
              "\n",
              "#sk-container-id-1 div.sk-estimator.fitted input.sk-toggleable__control:checked~label.sk-toggleable__label {\n",
              "  /* fitted */\n",
              "  background-color: var(--sklearn-color-fitted-level-2);\n",
              "}\n",
              "\n",
              "#sk-container-id-1 div.sk-label label.sk-toggleable__label,\n",
              "#sk-container-id-1 div.sk-label label {\n",
              "  /* The background is the default theme color */\n",
              "  color: var(--sklearn-color-text-on-default-background);\n",
              "}\n",
              "\n",
              "/* On hover, darken the color of the background */\n",
              "#sk-container-id-1 div.sk-label:hover label.sk-toggleable__label {\n",
              "  color: var(--sklearn-color-text);\n",
              "  background-color: var(--sklearn-color-unfitted-level-2);\n",
              "}\n",
              "\n",
              "/* Label box, darken color on hover, fitted */\n",
              "#sk-container-id-1 div.sk-label.fitted:hover label.sk-toggleable__label.fitted {\n",
              "  color: var(--sklearn-color-text);\n",
              "  background-color: var(--sklearn-color-fitted-level-2);\n",
              "}\n",
              "\n",
              "/* Estimator label */\n",
              "\n",
              "#sk-container-id-1 div.sk-label label {\n",
              "  font-family: monospace;\n",
              "  font-weight: bold;\n",
              "  display: inline-block;\n",
              "  line-height: 1.2em;\n",
              "}\n",
              "\n",
              "#sk-container-id-1 div.sk-label-container {\n",
              "  text-align: center;\n",
              "}\n",
              "\n",
              "/* Estimator-specific */\n",
              "#sk-container-id-1 div.sk-estimator {\n",
              "  font-family: monospace;\n",
              "  border: 1px dotted var(--sklearn-color-border-box);\n",
              "  border-radius: 0.25em;\n",
              "  box-sizing: border-box;\n",
              "  margin-bottom: 0.5em;\n",
              "  /* unfitted */\n",
              "  background-color: var(--sklearn-color-unfitted-level-0);\n",
              "}\n",
              "\n",
              "#sk-container-id-1 div.sk-estimator.fitted {\n",
              "  /* fitted */\n",
              "  background-color: var(--sklearn-color-fitted-level-0);\n",
              "}\n",
              "\n",
              "/* on hover */\n",
              "#sk-container-id-1 div.sk-estimator:hover {\n",
              "  /* unfitted */\n",
              "  background-color: var(--sklearn-color-unfitted-level-2);\n",
              "}\n",
              "\n",
              "#sk-container-id-1 div.sk-estimator.fitted:hover {\n",
              "  /* fitted */\n",
              "  background-color: var(--sklearn-color-fitted-level-2);\n",
              "}\n",
              "\n",
              "/* Specification for estimator info (e.g. \"i\" and \"?\") */\n",
              "\n",
              "/* Common style for \"i\" and \"?\" */\n",
              "\n",
              ".sk-estimator-doc-link,\n",
              "a:link.sk-estimator-doc-link,\n",
              "a:visited.sk-estimator-doc-link {\n",
              "  float: right;\n",
              "  font-size: smaller;\n",
              "  line-height: 1em;\n",
              "  font-family: monospace;\n",
              "  background-color: var(--sklearn-color-background);\n",
              "  border-radius: 1em;\n",
              "  height: 1em;\n",
              "  width: 1em;\n",
              "  text-decoration: none !important;\n",
              "  margin-left: 0.5em;\n",
              "  text-align: center;\n",
              "  /* unfitted */\n",
              "  border: var(--sklearn-color-unfitted-level-1) 1pt solid;\n",
              "  color: var(--sklearn-color-unfitted-level-1);\n",
              "}\n",
              "\n",
              ".sk-estimator-doc-link.fitted,\n",
              "a:link.sk-estimator-doc-link.fitted,\n",
              "a:visited.sk-estimator-doc-link.fitted {\n",
              "  /* fitted */\n",
              "  border: var(--sklearn-color-fitted-level-1) 1pt solid;\n",
              "  color: var(--sklearn-color-fitted-level-1);\n",
              "}\n",
              "\n",
              "/* On hover */\n",
              "div.sk-estimator:hover .sk-estimator-doc-link:hover,\n",
              ".sk-estimator-doc-link:hover,\n",
              "div.sk-label-container:hover .sk-estimator-doc-link:hover,\n",
              ".sk-estimator-doc-link:hover {\n",
              "  /* unfitted */\n",
              "  background-color: var(--sklearn-color-unfitted-level-3);\n",
              "  color: var(--sklearn-color-background);\n",
              "  text-decoration: none;\n",
              "}\n",
              "\n",
              "div.sk-estimator.fitted:hover .sk-estimator-doc-link.fitted:hover,\n",
              ".sk-estimator-doc-link.fitted:hover,\n",
              "div.sk-label-container:hover .sk-estimator-doc-link.fitted:hover,\n",
              ".sk-estimator-doc-link.fitted:hover {\n",
              "  /* fitted */\n",
              "  background-color: var(--sklearn-color-fitted-level-3);\n",
              "  color: var(--sklearn-color-background);\n",
              "  text-decoration: none;\n",
              "}\n",
              "\n",
              "/* Span, style for the box shown on hovering the info icon */\n",
              ".sk-estimator-doc-link span {\n",
              "  display: none;\n",
              "  z-index: 9999;\n",
              "  position: relative;\n",
              "  font-weight: normal;\n",
              "  right: .2ex;\n",
              "  padding: .5ex;\n",
              "  margin: .5ex;\n",
              "  width: min-content;\n",
              "  min-width: 20ex;\n",
              "  max-width: 50ex;\n",
              "  color: var(--sklearn-color-text);\n",
              "  box-shadow: 2pt 2pt 4pt #999;\n",
              "  /* unfitted */\n",
              "  background: var(--sklearn-color-unfitted-level-0);\n",
              "  border: .5pt solid var(--sklearn-color-unfitted-level-3);\n",
              "}\n",
              "\n",
              ".sk-estimator-doc-link.fitted span {\n",
              "  /* fitted */\n",
              "  background: var(--sklearn-color-fitted-level-0);\n",
              "  border: var(--sklearn-color-fitted-level-3);\n",
              "}\n",
              "\n",
              ".sk-estimator-doc-link:hover span {\n",
              "  display: block;\n",
              "}\n",
              "\n",
              "/* \"?\"-specific style due to the `<a>` HTML tag */\n",
              "\n",
              "#sk-container-id-1 a.estimator_doc_link {\n",
              "  float: right;\n",
              "  font-size: 1rem;\n",
              "  line-height: 1em;\n",
              "  font-family: monospace;\n",
              "  background-color: var(--sklearn-color-background);\n",
              "  border-radius: 1rem;\n",
              "  height: 1rem;\n",
              "  width: 1rem;\n",
              "  text-decoration: none;\n",
              "  /* unfitted */\n",
              "  color: var(--sklearn-color-unfitted-level-1);\n",
              "  border: var(--sklearn-color-unfitted-level-1) 1pt solid;\n",
              "}\n",
              "\n",
              "#sk-container-id-1 a.estimator_doc_link.fitted {\n",
              "  /* fitted */\n",
              "  border: var(--sklearn-color-fitted-level-1) 1pt solid;\n",
              "  color: var(--sklearn-color-fitted-level-1);\n",
              "}\n",
              "\n",
              "/* On hover */\n",
              "#sk-container-id-1 a.estimator_doc_link:hover {\n",
              "  /* unfitted */\n",
              "  background-color: var(--sklearn-color-unfitted-level-3);\n",
              "  color: var(--sklearn-color-background);\n",
              "  text-decoration: none;\n",
              "}\n",
              "\n",
              "#sk-container-id-1 a.estimator_doc_link.fitted:hover {\n",
              "  /* fitted */\n",
              "  background-color: var(--sklearn-color-fitted-level-3);\n",
              "}\n",
              "</style><div id=\"sk-container-id-1\" class=\"sk-top-container\"><div class=\"sk-text-repr-fallback\"><pre>Pipeline(steps=[(&#x27;preprocessor&#x27;,\n",
              "                 ColumnTransformer(transformers=[(&#x27;num&#x27;, StandardScaler(),\n",
              "                                                  Index([&#x27;age&#x27;, &#x27;biological_parents&#x27;, &#x27;hh_age&#x27;, &#x27;hh_size&#x27;, &#x27;hh_males&#x27;,\n",
              "       &#x27;hh_females&#x27;, &#x27;asset_tv&#x27;, &#x27;asset_radio&#x27;, &#x27;asset_computer&#x27;,\n",
              "       &#x27;asset_phone&#x27;, &#x27;asset_car&#x27;, &#x27;asset_motorbike&#x27;, &#x27;asset_bicycle&#x27;,\n",
              "       &#x27;asset_cattle&#x27;, &#x27;asset_sheep_goat&#x27;, &#x27;asset_elec&#x27;, &#x27;asset_water&#x27;,\n",
              "       &#x27;urban_code&#x27;],\n",
              "      dtype=&#x27;object&#x27;)),\n",
              "                                                 (&#x27;cat&#x27;,\n",
              "                                                  OneHotEncoder(drop=&#x27;first&#x27;,\n",
              "                                                                handle_unknown=&#x27;ignore&#x27;),\n",
              "                                                  Index([&#x27;gender&#x27;, &#x27;disability&#x27;, &#x27;mothers_edu&#x27;, &#x27;mothers_toschool&#x27;, &#x27;hh_edu&#x27;,\n",
              "       &#x27;hh_gender&#x27;, &#x27;asset_toilet&#x27;, &#x27;water_source&#x27;, &#x27;water_source_distance&#x27;,\n",
              "       &#x27;id_regionName&#x27;, &#x27;id_districtName&#x27;],\n",
              "      dtype=&#x27;object&#x27;))])),\n",
              "                (&#x27;classifier&#x27;, RandomForestClassifier(random_state=42))])</pre><b>In a Jupyter environment, please rerun this cell to show the HTML representation or trust the notebook. <br />On GitHub, the HTML representation is unable to render, please try loading this page with nbviewer.org.</b></div><div class=\"sk-container\" hidden><div class=\"sk-item sk-dashed-wrapped\"><div class=\"sk-label-container\"><div class=\"sk-label fitted sk-toggleable\"><input class=\"sk-toggleable__control sk-hidden--visually\" id=\"sk-estimator-id-1\" type=\"checkbox\" ><label for=\"sk-estimator-id-1\" class=\"sk-toggleable__label fitted sk-toggleable__label-arrow\"><div><div>Pipeline</div></div><div><a class=\"sk-estimator-doc-link fitted\" rel=\"noreferrer\" target=\"_blank\" href=\"https://scikit-learn.org/1.6/modules/generated/sklearn.pipeline.Pipeline.html\">?<span>Documentation for Pipeline</span></a><span class=\"sk-estimator-doc-link fitted\">i<span>Fitted</span></span></div></label><div class=\"sk-toggleable__content fitted\"><pre>Pipeline(steps=[(&#x27;preprocessor&#x27;,\n",
              "                 ColumnTransformer(transformers=[(&#x27;num&#x27;, StandardScaler(),\n",
              "                                                  Index([&#x27;age&#x27;, &#x27;biological_parents&#x27;, &#x27;hh_age&#x27;, &#x27;hh_size&#x27;, &#x27;hh_males&#x27;,\n",
              "       &#x27;hh_females&#x27;, &#x27;asset_tv&#x27;, &#x27;asset_radio&#x27;, &#x27;asset_computer&#x27;,\n",
              "       &#x27;asset_phone&#x27;, &#x27;asset_car&#x27;, &#x27;asset_motorbike&#x27;, &#x27;asset_bicycle&#x27;,\n",
              "       &#x27;asset_cattle&#x27;, &#x27;asset_sheep_goat&#x27;, &#x27;asset_elec&#x27;, &#x27;asset_water&#x27;,\n",
              "       &#x27;urban_code&#x27;],\n",
              "      dtype=&#x27;object&#x27;)),\n",
              "                                                 (&#x27;cat&#x27;,\n",
              "                                                  OneHotEncoder(drop=&#x27;first&#x27;,\n",
              "                                                                handle_unknown=&#x27;ignore&#x27;),\n",
              "                                                  Index([&#x27;gender&#x27;, &#x27;disability&#x27;, &#x27;mothers_edu&#x27;, &#x27;mothers_toschool&#x27;, &#x27;hh_edu&#x27;,\n",
              "       &#x27;hh_gender&#x27;, &#x27;asset_toilet&#x27;, &#x27;water_source&#x27;, &#x27;water_source_distance&#x27;,\n",
              "       &#x27;id_regionName&#x27;, &#x27;id_districtName&#x27;],\n",
              "      dtype=&#x27;object&#x27;))])),\n",
              "                (&#x27;classifier&#x27;, RandomForestClassifier(random_state=42))])</pre></div> </div></div><div class=\"sk-serial\"><div class=\"sk-item sk-dashed-wrapped\"><div class=\"sk-label-container\"><div class=\"sk-label fitted sk-toggleable\"><input class=\"sk-toggleable__control sk-hidden--visually\" id=\"sk-estimator-id-2\" type=\"checkbox\" ><label for=\"sk-estimator-id-2\" class=\"sk-toggleable__label fitted sk-toggleable__label-arrow\"><div><div>preprocessor: ColumnTransformer</div></div><div><a class=\"sk-estimator-doc-link fitted\" rel=\"noreferrer\" target=\"_blank\" href=\"https://scikit-learn.org/1.6/modules/generated/sklearn.compose.ColumnTransformer.html\">?<span>Documentation for preprocessor: ColumnTransformer</span></a></div></label><div class=\"sk-toggleable__content fitted\"><pre>ColumnTransformer(transformers=[(&#x27;num&#x27;, StandardScaler(),\n",
              "                                 Index([&#x27;age&#x27;, &#x27;biological_parents&#x27;, &#x27;hh_age&#x27;, &#x27;hh_size&#x27;, &#x27;hh_males&#x27;,\n",
              "       &#x27;hh_females&#x27;, &#x27;asset_tv&#x27;, &#x27;asset_radio&#x27;, &#x27;asset_computer&#x27;,\n",
              "       &#x27;asset_phone&#x27;, &#x27;asset_car&#x27;, &#x27;asset_motorbike&#x27;, &#x27;asset_bicycle&#x27;,\n",
              "       &#x27;asset_cattle&#x27;, &#x27;asset_sheep_goat&#x27;, &#x27;asset_elec&#x27;, &#x27;asset_water&#x27;,\n",
              "       &#x27;urban_code&#x27;],\n",
              "      dtype=&#x27;object&#x27;)),\n",
              "                                (&#x27;cat&#x27;,\n",
              "                                 OneHotEncoder(drop=&#x27;first&#x27;,\n",
              "                                               handle_unknown=&#x27;ignore&#x27;),\n",
              "                                 Index([&#x27;gender&#x27;, &#x27;disability&#x27;, &#x27;mothers_edu&#x27;, &#x27;mothers_toschool&#x27;, &#x27;hh_edu&#x27;,\n",
              "       &#x27;hh_gender&#x27;, &#x27;asset_toilet&#x27;, &#x27;water_source&#x27;, &#x27;water_source_distance&#x27;,\n",
              "       &#x27;id_regionName&#x27;, &#x27;id_districtName&#x27;],\n",
              "      dtype=&#x27;object&#x27;))])</pre></div> </div></div><div class=\"sk-parallel\"><div class=\"sk-parallel-item\"><div class=\"sk-item\"><div class=\"sk-label-container\"><div class=\"sk-label fitted sk-toggleable\"><input class=\"sk-toggleable__control sk-hidden--visually\" id=\"sk-estimator-id-3\" type=\"checkbox\" ><label for=\"sk-estimator-id-3\" class=\"sk-toggleable__label fitted sk-toggleable__label-arrow\"><div><div>num</div></div></label><div class=\"sk-toggleable__content fitted\"><pre>Index([&#x27;age&#x27;, &#x27;biological_parents&#x27;, &#x27;hh_age&#x27;, &#x27;hh_size&#x27;, &#x27;hh_males&#x27;,\n",
              "       &#x27;hh_females&#x27;, &#x27;asset_tv&#x27;, &#x27;asset_radio&#x27;, &#x27;asset_computer&#x27;,\n",
              "       &#x27;asset_phone&#x27;, &#x27;asset_car&#x27;, &#x27;asset_motorbike&#x27;, &#x27;asset_bicycle&#x27;,\n",
              "       &#x27;asset_cattle&#x27;, &#x27;asset_sheep_goat&#x27;, &#x27;asset_elec&#x27;, &#x27;asset_water&#x27;,\n",
              "       &#x27;urban_code&#x27;],\n",
              "      dtype=&#x27;object&#x27;)</pre></div> </div></div><div class=\"sk-serial\"><div class=\"sk-item\"><div class=\"sk-estimator fitted sk-toggleable\"><input class=\"sk-toggleable__control sk-hidden--visually\" id=\"sk-estimator-id-4\" type=\"checkbox\" ><label for=\"sk-estimator-id-4\" class=\"sk-toggleable__label fitted sk-toggleable__label-arrow\"><div><div>StandardScaler</div></div><div><a class=\"sk-estimator-doc-link fitted\" rel=\"noreferrer\" target=\"_blank\" href=\"https://scikit-learn.org/1.6/modules/generated/sklearn.preprocessing.StandardScaler.html\">?<span>Documentation for StandardScaler</span></a></div></label><div class=\"sk-toggleable__content fitted\"><pre>StandardScaler()</pre></div> </div></div></div></div></div><div class=\"sk-parallel-item\"><div class=\"sk-item\"><div class=\"sk-label-container\"><div class=\"sk-label fitted sk-toggleable\"><input class=\"sk-toggleable__control sk-hidden--visually\" id=\"sk-estimator-id-5\" type=\"checkbox\" ><label for=\"sk-estimator-id-5\" class=\"sk-toggleable__label fitted sk-toggleable__label-arrow\"><div><div>cat</div></div></label><div class=\"sk-toggleable__content fitted\"><pre>Index([&#x27;gender&#x27;, &#x27;disability&#x27;, &#x27;mothers_edu&#x27;, &#x27;mothers_toschool&#x27;, &#x27;hh_edu&#x27;,\n",
              "       &#x27;hh_gender&#x27;, &#x27;asset_toilet&#x27;, &#x27;water_source&#x27;, &#x27;water_source_distance&#x27;,\n",
              "       &#x27;id_regionName&#x27;, &#x27;id_districtName&#x27;],\n",
              "      dtype=&#x27;object&#x27;)</pre></div> </div></div><div class=\"sk-serial\"><div class=\"sk-item\"><div class=\"sk-estimator fitted sk-toggleable\"><input class=\"sk-toggleable__control sk-hidden--visually\" id=\"sk-estimator-id-6\" type=\"checkbox\" ><label for=\"sk-estimator-id-6\" class=\"sk-toggleable__label fitted sk-toggleable__label-arrow\"><div><div>OneHotEncoder</div></div><div><a class=\"sk-estimator-doc-link fitted\" rel=\"noreferrer\" target=\"_blank\" href=\"https://scikit-learn.org/1.6/modules/generated/sklearn.preprocessing.OneHotEncoder.html\">?<span>Documentation for OneHotEncoder</span></a></div></label><div class=\"sk-toggleable__content fitted\"><pre>OneHotEncoder(drop=&#x27;first&#x27;, handle_unknown=&#x27;ignore&#x27;)</pre></div> </div></div></div></div></div></div></div><div class=\"sk-item\"><div class=\"sk-estimator fitted sk-toggleable\"><input class=\"sk-toggleable__control sk-hidden--visually\" id=\"sk-estimator-id-7\" type=\"checkbox\" ><label for=\"sk-estimator-id-7\" class=\"sk-toggleable__label fitted sk-toggleable__label-arrow\"><div><div>RandomForestClassifier</div></div><div><a class=\"sk-estimator-doc-link fitted\" rel=\"noreferrer\" target=\"_blank\" href=\"https://scikit-learn.org/1.6/modules/generated/sklearn.ensemble.RandomForestClassifier.html\">?<span>Documentation for RandomForestClassifier</span></a></div></label><div class=\"sk-toggleable__content fitted\"><pre>RandomForestClassifier(random_state=42)</pre></div> </div></div></div></div></div></div>"
            ]
          },
          "metadata": {},
          "execution_count": 23
        }
      ]
    },
    {
      "cell_type": "code",
      "source": [
        "# Evaluate on validation set\n",
        "y_val_pred = rf_pipeline.predict(X_val)\n",
        "print(\"Validation Set Performance:\")\n",
        "print(classification_report(y_val, y_val_pred))"
      ],
      "metadata": {
        "id": "zwQT7aPPY6k1",
        "colab": {
          "base_uri": "https://localhost:8080/",
          "height": 0
        },
        "outputId": "4a526f28-358a-4498-9985-a30a2c177ae8"
      },
      "execution_count": 24,
      "outputs": [
        {
          "output_type": "stream",
          "name": "stdout",
          "text": [
            "Validation Set Performance:\n",
            "              precision    recall  f1-score   support\n",
            "\n",
            "           0       0.82      0.85      0.84       195\n",
            "           1       0.85      0.82      0.83       195\n",
            "\n",
            "    accuracy                           0.83       390\n",
            "   macro avg       0.83      0.83      0.83       390\n",
            "weighted avg       0.83      0.83      0.83       390\n",
            "\n"
          ]
        }
      ]
    },
    {
      "cell_type": "code",
      "source": [
        "# Hyperparameter tuning, including criterion\n",
        "param_grid = {\n",
        "    'classifier__n_estimators': [100, 200],\n",
        "    'classifier__max_depth': [10, 20, None],\n",
        "    'classifier__min_samples_split': [2, 5],\n",
        "    'classifier__criterion': ['gini', 'entropy']\n",
        "}\n",
        "grid_search = GridSearchCV(rf_pipeline, param_grid, cv=5, scoring='f1_macro', n_jobs=-1)\n",
        "grid_search.fit(X_train, y_train)"
      ],
      "metadata": {
        "id": "I8MQrWCJZMNm",
        "colab": {
          "base_uri": "https://localhost:8080/",
          "height": 281
        },
        "outputId": "e1e1914b-9441-4ab3-908a-9d86f06048de"
      },
      "execution_count": 25,
      "outputs": [
        {
          "output_type": "execute_result",
          "data": {
            "text/plain": [
              "GridSearchCV(cv=5,\n",
              "             estimator=Pipeline(steps=[('preprocessor',\n",
              "                                        ColumnTransformer(transformers=[('num',\n",
              "                                                                         StandardScaler(),\n",
              "                                                                         Index(['age', 'biological_parents', 'hh_age', 'hh_size', 'hh_males',\n",
              "       'hh_females', 'asset_tv', 'asset_radio', 'asset_computer',\n",
              "       'asset_phone', 'asset_car', 'asset_motorbike', 'asset_bicycle',\n",
              "       'asset_cattle', 'asset_sheep_goat', 'asset_elec', 'asset_w...\n",
              "       'hh_gender', 'asset_toilet', 'water_source', 'water_source_distance',\n",
              "       'id_regionName', 'id_districtName'],\n",
              "      dtype='object'))])),\n",
              "                                       ('classifier',\n",
              "                                        RandomForestClassifier(random_state=42))]),\n",
              "             n_jobs=-1,\n",
              "             param_grid={'classifier__criterion': ['gini', 'entropy'],\n",
              "                         'classifier__max_depth': [10, 20, None],\n",
              "                         'classifier__min_samples_split': [2, 5],\n",
              "                         'classifier__n_estimators': [100, 200]},\n",
              "             scoring='f1_macro')"
            ],
            "text/html": [
              "<style>#sk-container-id-2 {\n",
              "  /* Definition of color scheme common for light and dark mode */\n",
              "  --sklearn-color-text: #000;\n",
              "  --sklearn-color-text-muted: #666;\n",
              "  --sklearn-color-line: gray;\n",
              "  /* Definition of color scheme for unfitted estimators */\n",
              "  --sklearn-color-unfitted-level-0: #fff5e6;\n",
              "  --sklearn-color-unfitted-level-1: #f6e4d2;\n",
              "  --sklearn-color-unfitted-level-2: #ffe0b3;\n",
              "  --sklearn-color-unfitted-level-3: chocolate;\n",
              "  /* Definition of color scheme for fitted estimators */\n",
              "  --sklearn-color-fitted-level-0: #f0f8ff;\n",
              "  --sklearn-color-fitted-level-1: #d4ebff;\n",
              "  --sklearn-color-fitted-level-2: #b3dbfd;\n",
              "  --sklearn-color-fitted-level-3: cornflowerblue;\n",
              "\n",
              "  /* Specific color for light theme */\n",
              "  --sklearn-color-text-on-default-background: var(--sg-text-color, var(--theme-code-foreground, var(--jp-content-font-color1, black)));\n",
              "  --sklearn-color-background: var(--sg-background-color, var(--theme-background, var(--jp-layout-color0, white)));\n",
              "  --sklearn-color-border-box: var(--sg-text-color, var(--theme-code-foreground, var(--jp-content-font-color1, black)));\n",
              "  --sklearn-color-icon: #696969;\n",
              "\n",
              "  @media (prefers-color-scheme: dark) {\n",
              "    /* Redefinition of color scheme for dark theme */\n",
              "    --sklearn-color-text-on-default-background: var(--sg-text-color, var(--theme-code-foreground, var(--jp-content-font-color1, white)));\n",
              "    --sklearn-color-background: var(--sg-background-color, var(--theme-background, var(--jp-layout-color0, #111)));\n",
              "    --sklearn-color-border-box: var(--sg-text-color, var(--theme-code-foreground, var(--jp-content-font-color1, white)));\n",
              "    --sklearn-color-icon: #878787;\n",
              "  }\n",
              "}\n",
              "\n",
              "#sk-container-id-2 {\n",
              "  color: var(--sklearn-color-text);\n",
              "}\n",
              "\n",
              "#sk-container-id-2 pre {\n",
              "  padding: 0;\n",
              "}\n",
              "\n",
              "#sk-container-id-2 input.sk-hidden--visually {\n",
              "  border: 0;\n",
              "  clip: rect(1px 1px 1px 1px);\n",
              "  clip: rect(1px, 1px, 1px, 1px);\n",
              "  height: 1px;\n",
              "  margin: -1px;\n",
              "  overflow: hidden;\n",
              "  padding: 0;\n",
              "  position: absolute;\n",
              "  width: 1px;\n",
              "}\n",
              "\n",
              "#sk-container-id-2 div.sk-dashed-wrapped {\n",
              "  border: 1px dashed var(--sklearn-color-line);\n",
              "  margin: 0 0.4em 0.5em 0.4em;\n",
              "  box-sizing: border-box;\n",
              "  padding-bottom: 0.4em;\n",
              "  background-color: var(--sklearn-color-background);\n",
              "}\n",
              "\n",
              "#sk-container-id-2 div.sk-container {\n",
              "  /* jupyter's `normalize.less` sets `[hidden] { display: none; }`\n",
              "     but bootstrap.min.css set `[hidden] { display: none !important; }`\n",
              "     so we also need the `!important` here to be able to override the\n",
              "     default hidden behavior on the sphinx rendered scikit-learn.org.\n",
              "     See: https://github.com/scikit-learn/scikit-learn/issues/21755 */\n",
              "  display: inline-block !important;\n",
              "  position: relative;\n",
              "}\n",
              "\n",
              "#sk-container-id-2 div.sk-text-repr-fallback {\n",
              "  display: none;\n",
              "}\n",
              "\n",
              "div.sk-parallel-item,\n",
              "div.sk-serial,\n",
              "div.sk-item {\n",
              "  /* draw centered vertical line to link estimators */\n",
              "  background-image: linear-gradient(var(--sklearn-color-text-on-default-background), var(--sklearn-color-text-on-default-background));\n",
              "  background-size: 2px 100%;\n",
              "  background-repeat: no-repeat;\n",
              "  background-position: center center;\n",
              "}\n",
              "\n",
              "/* Parallel-specific style estimator block */\n",
              "\n",
              "#sk-container-id-2 div.sk-parallel-item::after {\n",
              "  content: \"\";\n",
              "  width: 100%;\n",
              "  border-bottom: 2px solid var(--sklearn-color-text-on-default-background);\n",
              "  flex-grow: 1;\n",
              "}\n",
              "\n",
              "#sk-container-id-2 div.sk-parallel {\n",
              "  display: flex;\n",
              "  align-items: stretch;\n",
              "  justify-content: center;\n",
              "  background-color: var(--sklearn-color-background);\n",
              "  position: relative;\n",
              "}\n",
              "\n",
              "#sk-container-id-2 div.sk-parallel-item {\n",
              "  display: flex;\n",
              "  flex-direction: column;\n",
              "}\n",
              "\n",
              "#sk-container-id-2 div.sk-parallel-item:first-child::after {\n",
              "  align-self: flex-end;\n",
              "  width: 50%;\n",
              "}\n",
              "\n",
              "#sk-container-id-2 div.sk-parallel-item:last-child::after {\n",
              "  align-self: flex-start;\n",
              "  width: 50%;\n",
              "}\n",
              "\n",
              "#sk-container-id-2 div.sk-parallel-item:only-child::after {\n",
              "  width: 0;\n",
              "}\n",
              "\n",
              "/* Serial-specific style estimator block */\n",
              "\n",
              "#sk-container-id-2 div.sk-serial {\n",
              "  display: flex;\n",
              "  flex-direction: column;\n",
              "  align-items: center;\n",
              "  background-color: var(--sklearn-color-background);\n",
              "  padding-right: 1em;\n",
              "  padding-left: 1em;\n",
              "}\n",
              "\n",
              "\n",
              "/* Toggleable style: style used for estimator/Pipeline/ColumnTransformer box that is\n",
              "clickable and can be expanded/collapsed.\n",
              "- Pipeline and ColumnTransformer use this feature and define the default style\n",
              "- Estimators will overwrite some part of the style using the `sk-estimator` class\n",
              "*/\n",
              "\n",
              "/* Pipeline and ColumnTransformer style (default) */\n",
              "\n",
              "#sk-container-id-2 div.sk-toggleable {\n",
              "  /* Default theme specific background. It is overwritten whether we have a\n",
              "  specific estimator or a Pipeline/ColumnTransformer */\n",
              "  background-color: var(--sklearn-color-background);\n",
              "}\n",
              "\n",
              "/* Toggleable label */\n",
              "#sk-container-id-2 label.sk-toggleable__label {\n",
              "  cursor: pointer;\n",
              "  display: flex;\n",
              "  width: 100%;\n",
              "  margin-bottom: 0;\n",
              "  padding: 0.5em;\n",
              "  box-sizing: border-box;\n",
              "  text-align: center;\n",
              "  align-items: start;\n",
              "  justify-content: space-between;\n",
              "  gap: 0.5em;\n",
              "}\n",
              "\n",
              "#sk-container-id-2 label.sk-toggleable__label .caption {\n",
              "  font-size: 0.6rem;\n",
              "  font-weight: lighter;\n",
              "  color: var(--sklearn-color-text-muted);\n",
              "}\n",
              "\n",
              "#sk-container-id-2 label.sk-toggleable__label-arrow:before {\n",
              "  /* Arrow on the left of the label */\n",
              "  content: \"▸\";\n",
              "  float: left;\n",
              "  margin-right: 0.25em;\n",
              "  color: var(--sklearn-color-icon);\n",
              "}\n",
              "\n",
              "#sk-container-id-2 label.sk-toggleable__label-arrow:hover:before {\n",
              "  color: var(--sklearn-color-text);\n",
              "}\n",
              "\n",
              "/* Toggleable content - dropdown */\n",
              "\n",
              "#sk-container-id-2 div.sk-toggleable__content {\n",
              "  max-height: 0;\n",
              "  max-width: 0;\n",
              "  overflow: hidden;\n",
              "  text-align: left;\n",
              "  /* unfitted */\n",
              "  background-color: var(--sklearn-color-unfitted-level-0);\n",
              "}\n",
              "\n",
              "#sk-container-id-2 div.sk-toggleable__content.fitted {\n",
              "  /* fitted */\n",
              "  background-color: var(--sklearn-color-fitted-level-0);\n",
              "}\n",
              "\n",
              "#sk-container-id-2 div.sk-toggleable__content pre {\n",
              "  margin: 0.2em;\n",
              "  border-radius: 0.25em;\n",
              "  color: var(--sklearn-color-text);\n",
              "  /* unfitted */\n",
              "  background-color: var(--sklearn-color-unfitted-level-0);\n",
              "}\n",
              "\n",
              "#sk-container-id-2 div.sk-toggleable__content.fitted pre {\n",
              "  /* unfitted */\n",
              "  background-color: var(--sklearn-color-fitted-level-0);\n",
              "}\n",
              "\n",
              "#sk-container-id-2 input.sk-toggleable__control:checked~div.sk-toggleable__content {\n",
              "  /* Expand drop-down */\n",
              "  max-height: 200px;\n",
              "  max-width: 100%;\n",
              "  overflow: auto;\n",
              "}\n",
              "\n",
              "#sk-container-id-2 input.sk-toggleable__control:checked~label.sk-toggleable__label-arrow:before {\n",
              "  content: \"▾\";\n",
              "}\n",
              "\n",
              "/* Pipeline/ColumnTransformer-specific style */\n",
              "\n",
              "#sk-container-id-2 div.sk-label input.sk-toggleable__control:checked~label.sk-toggleable__label {\n",
              "  color: var(--sklearn-color-text);\n",
              "  background-color: var(--sklearn-color-unfitted-level-2);\n",
              "}\n",
              "\n",
              "#sk-container-id-2 div.sk-label.fitted input.sk-toggleable__control:checked~label.sk-toggleable__label {\n",
              "  background-color: var(--sklearn-color-fitted-level-2);\n",
              "}\n",
              "\n",
              "/* Estimator-specific style */\n",
              "\n",
              "/* Colorize estimator box */\n",
              "#sk-container-id-2 div.sk-estimator input.sk-toggleable__control:checked~label.sk-toggleable__label {\n",
              "  /* unfitted */\n",
              "  background-color: var(--sklearn-color-unfitted-level-2);\n",
              "}\n",
              "\n",
              "#sk-container-id-2 div.sk-estimator.fitted input.sk-toggleable__control:checked~label.sk-toggleable__label {\n",
              "  /* fitted */\n",
              "  background-color: var(--sklearn-color-fitted-level-2);\n",
              "}\n",
              "\n",
              "#sk-container-id-2 div.sk-label label.sk-toggleable__label,\n",
              "#sk-container-id-2 div.sk-label label {\n",
              "  /* The background is the default theme color */\n",
              "  color: var(--sklearn-color-text-on-default-background);\n",
              "}\n",
              "\n",
              "/* On hover, darken the color of the background */\n",
              "#sk-container-id-2 div.sk-label:hover label.sk-toggleable__label {\n",
              "  color: var(--sklearn-color-text);\n",
              "  background-color: var(--sklearn-color-unfitted-level-2);\n",
              "}\n",
              "\n",
              "/* Label box, darken color on hover, fitted */\n",
              "#sk-container-id-2 div.sk-label.fitted:hover label.sk-toggleable__label.fitted {\n",
              "  color: var(--sklearn-color-text);\n",
              "  background-color: var(--sklearn-color-fitted-level-2);\n",
              "}\n",
              "\n",
              "/* Estimator label */\n",
              "\n",
              "#sk-container-id-2 div.sk-label label {\n",
              "  font-family: monospace;\n",
              "  font-weight: bold;\n",
              "  display: inline-block;\n",
              "  line-height: 1.2em;\n",
              "}\n",
              "\n",
              "#sk-container-id-2 div.sk-label-container {\n",
              "  text-align: center;\n",
              "}\n",
              "\n",
              "/* Estimator-specific */\n",
              "#sk-container-id-2 div.sk-estimator {\n",
              "  font-family: monospace;\n",
              "  border: 1px dotted var(--sklearn-color-border-box);\n",
              "  border-radius: 0.25em;\n",
              "  box-sizing: border-box;\n",
              "  margin-bottom: 0.5em;\n",
              "  /* unfitted */\n",
              "  background-color: var(--sklearn-color-unfitted-level-0);\n",
              "}\n",
              "\n",
              "#sk-container-id-2 div.sk-estimator.fitted {\n",
              "  /* fitted */\n",
              "  background-color: var(--sklearn-color-fitted-level-0);\n",
              "}\n",
              "\n",
              "/* on hover */\n",
              "#sk-container-id-2 div.sk-estimator:hover {\n",
              "  /* unfitted */\n",
              "  background-color: var(--sklearn-color-unfitted-level-2);\n",
              "}\n",
              "\n",
              "#sk-container-id-2 div.sk-estimator.fitted:hover {\n",
              "  /* fitted */\n",
              "  background-color: var(--sklearn-color-fitted-level-2);\n",
              "}\n",
              "\n",
              "/* Specification for estimator info (e.g. \"i\" and \"?\") */\n",
              "\n",
              "/* Common style for \"i\" and \"?\" */\n",
              "\n",
              ".sk-estimator-doc-link,\n",
              "a:link.sk-estimator-doc-link,\n",
              "a:visited.sk-estimator-doc-link {\n",
              "  float: right;\n",
              "  font-size: smaller;\n",
              "  line-height: 1em;\n",
              "  font-family: monospace;\n",
              "  background-color: var(--sklearn-color-background);\n",
              "  border-radius: 1em;\n",
              "  height: 1em;\n",
              "  width: 1em;\n",
              "  text-decoration: none !important;\n",
              "  margin-left: 0.5em;\n",
              "  text-align: center;\n",
              "  /* unfitted */\n",
              "  border: var(--sklearn-color-unfitted-level-1) 1pt solid;\n",
              "  color: var(--sklearn-color-unfitted-level-1);\n",
              "}\n",
              "\n",
              ".sk-estimator-doc-link.fitted,\n",
              "a:link.sk-estimator-doc-link.fitted,\n",
              "a:visited.sk-estimator-doc-link.fitted {\n",
              "  /* fitted */\n",
              "  border: var(--sklearn-color-fitted-level-1) 1pt solid;\n",
              "  color: var(--sklearn-color-fitted-level-1);\n",
              "}\n",
              "\n",
              "/* On hover */\n",
              "div.sk-estimator:hover .sk-estimator-doc-link:hover,\n",
              ".sk-estimator-doc-link:hover,\n",
              "div.sk-label-container:hover .sk-estimator-doc-link:hover,\n",
              ".sk-estimator-doc-link:hover {\n",
              "  /* unfitted */\n",
              "  background-color: var(--sklearn-color-unfitted-level-3);\n",
              "  color: var(--sklearn-color-background);\n",
              "  text-decoration: none;\n",
              "}\n",
              "\n",
              "div.sk-estimator.fitted:hover .sk-estimator-doc-link.fitted:hover,\n",
              ".sk-estimator-doc-link.fitted:hover,\n",
              "div.sk-label-container:hover .sk-estimator-doc-link.fitted:hover,\n",
              ".sk-estimator-doc-link.fitted:hover {\n",
              "  /* fitted */\n",
              "  background-color: var(--sklearn-color-fitted-level-3);\n",
              "  color: var(--sklearn-color-background);\n",
              "  text-decoration: none;\n",
              "}\n",
              "\n",
              "/* Span, style for the box shown on hovering the info icon */\n",
              ".sk-estimator-doc-link span {\n",
              "  display: none;\n",
              "  z-index: 9999;\n",
              "  position: relative;\n",
              "  font-weight: normal;\n",
              "  right: .2ex;\n",
              "  padding: .5ex;\n",
              "  margin: .5ex;\n",
              "  width: min-content;\n",
              "  min-width: 20ex;\n",
              "  max-width: 50ex;\n",
              "  color: var(--sklearn-color-text);\n",
              "  box-shadow: 2pt 2pt 4pt #999;\n",
              "  /* unfitted */\n",
              "  background: var(--sklearn-color-unfitted-level-0);\n",
              "  border: .5pt solid var(--sklearn-color-unfitted-level-3);\n",
              "}\n",
              "\n",
              ".sk-estimator-doc-link.fitted span {\n",
              "  /* fitted */\n",
              "  background: var(--sklearn-color-fitted-level-0);\n",
              "  border: var(--sklearn-color-fitted-level-3);\n",
              "}\n",
              "\n",
              ".sk-estimator-doc-link:hover span {\n",
              "  display: block;\n",
              "}\n",
              "\n",
              "/* \"?\"-specific style due to the `<a>` HTML tag */\n",
              "\n",
              "#sk-container-id-2 a.estimator_doc_link {\n",
              "  float: right;\n",
              "  font-size: 1rem;\n",
              "  line-height: 1em;\n",
              "  font-family: monospace;\n",
              "  background-color: var(--sklearn-color-background);\n",
              "  border-radius: 1rem;\n",
              "  height: 1rem;\n",
              "  width: 1rem;\n",
              "  text-decoration: none;\n",
              "  /* unfitted */\n",
              "  color: var(--sklearn-color-unfitted-level-1);\n",
              "  border: var(--sklearn-color-unfitted-level-1) 1pt solid;\n",
              "}\n",
              "\n",
              "#sk-container-id-2 a.estimator_doc_link.fitted {\n",
              "  /* fitted */\n",
              "  border: var(--sklearn-color-fitted-level-1) 1pt solid;\n",
              "  color: var(--sklearn-color-fitted-level-1);\n",
              "}\n",
              "\n",
              "/* On hover */\n",
              "#sk-container-id-2 a.estimator_doc_link:hover {\n",
              "  /* unfitted */\n",
              "  background-color: var(--sklearn-color-unfitted-level-3);\n",
              "  color: var(--sklearn-color-background);\n",
              "  text-decoration: none;\n",
              "}\n",
              "\n",
              "#sk-container-id-2 a.estimator_doc_link.fitted:hover {\n",
              "  /* fitted */\n",
              "  background-color: var(--sklearn-color-fitted-level-3);\n",
              "}\n",
              "</style><div id=\"sk-container-id-2\" class=\"sk-top-container\"><div class=\"sk-text-repr-fallback\"><pre>GridSearchCV(cv=5,\n",
              "             estimator=Pipeline(steps=[(&#x27;preprocessor&#x27;,\n",
              "                                        ColumnTransformer(transformers=[(&#x27;num&#x27;,\n",
              "                                                                         StandardScaler(),\n",
              "                                                                         Index([&#x27;age&#x27;, &#x27;biological_parents&#x27;, &#x27;hh_age&#x27;, &#x27;hh_size&#x27;, &#x27;hh_males&#x27;,\n",
              "       &#x27;hh_females&#x27;, &#x27;asset_tv&#x27;, &#x27;asset_radio&#x27;, &#x27;asset_computer&#x27;,\n",
              "       &#x27;asset_phone&#x27;, &#x27;asset_car&#x27;, &#x27;asset_motorbike&#x27;, &#x27;asset_bicycle&#x27;,\n",
              "       &#x27;asset_cattle&#x27;, &#x27;asset_sheep_goat&#x27;, &#x27;asset_elec&#x27;, &#x27;asset_w...\n",
              "       &#x27;hh_gender&#x27;, &#x27;asset_toilet&#x27;, &#x27;water_source&#x27;, &#x27;water_source_distance&#x27;,\n",
              "       &#x27;id_regionName&#x27;, &#x27;id_districtName&#x27;],\n",
              "      dtype=&#x27;object&#x27;))])),\n",
              "                                       (&#x27;classifier&#x27;,\n",
              "                                        RandomForestClassifier(random_state=42))]),\n",
              "             n_jobs=-1,\n",
              "             param_grid={&#x27;classifier__criterion&#x27;: [&#x27;gini&#x27;, &#x27;entropy&#x27;],\n",
              "                         &#x27;classifier__max_depth&#x27;: [10, 20, None],\n",
              "                         &#x27;classifier__min_samples_split&#x27;: [2, 5],\n",
              "                         &#x27;classifier__n_estimators&#x27;: [100, 200]},\n",
              "             scoring=&#x27;f1_macro&#x27;)</pre><b>In a Jupyter environment, please rerun this cell to show the HTML representation or trust the notebook. <br />On GitHub, the HTML representation is unable to render, please try loading this page with nbviewer.org.</b></div><div class=\"sk-container\" hidden><div class=\"sk-item sk-dashed-wrapped\"><div class=\"sk-label-container\"><div class=\"sk-label fitted sk-toggleable\"><input class=\"sk-toggleable__control sk-hidden--visually\" id=\"sk-estimator-id-8\" type=\"checkbox\" ><label for=\"sk-estimator-id-8\" class=\"sk-toggleable__label fitted sk-toggleable__label-arrow\"><div><div>GridSearchCV</div></div><div><a class=\"sk-estimator-doc-link fitted\" rel=\"noreferrer\" target=\"_blank\" href=\"https://scikit-learn.org/1.6/modules/generated/sklearn.model_selection.GridSearchCV.html\">?<span>Documentation for GridSearchCV</span></a><span class=\"sk-estimator-doc-link fitted\">i<span>Fitted</span></span></div></label><div class=\"sk-toggleable__content fitted\"><pre>GridSearchCV(cv=5,\n",
              "             estimator=Pipeline(steps=[(&#x27;preprocessor&#x27;,\n",
              "                                        ColumnTransformer(transformers=[(&#x27;num&#x27;,\n",
              "                                                                         StandardScaler(),\n",
              "                                                                         Index([&#x27;age&#x27;, &#x27;biological_parents&#x27;, &#x27;hh_age&#x27;, &#x27;hh_size&#x27;, &#x27;hh_males&#x27;,\n",
              "       &#x27;hh_females&#x27;, &#x27;asset_tv&#x27;, &#x27;asset_radio&#x27;, &#x27;asset_computer&#x27;,\n",
              "       &#x27;asset_phone&#x27;, &#x27;asset_car&#x27;, &#x27;asset_motorbike&#x27;, &#x27;asset_bicycle&#x27;,\n",
              "       &#x27;asset_cattle&#x27;, &#x27;asset_sheep_goat&#x27;, &#x27;asset_elec&#x27;, &#x27;asset_w...\n",
              "       &#x27;hh_gender&#x27;, &#x27;asset_toilet&#x27;, &#x27;water_source&#x27;, &#x27;water_source_distance&#x27;,\n",
              "       &#x27;id_regionName&#x27;, &#x27;id_districtName&#x27;],\n",
              "      dtype=&#x27;object&#x27;))])),\n",
              "                                       (&#x27;classifier&#x27;,\n",
              "                                        RandomForestClassifier(random_state=42))]),\n",
              "             n_jobs=-1,\n",
              "             param_grid={&#x27;classifier__criterion&#x27;: [&#x27;gini&#x27;, &#x27;entropy&#x27;],\n",
              "                         &#x27;classifier__max_depth&#x27;: [10, 20, None],\n",
              "                         &#x27;classifier__min_samples_split&#x27;: [2, 5],\n",
              "                         &#x27;classifier__n_estimators&#x27;: [100, 200]},\n",
              "             scoring=&#x27;f1_macro&#x27;)</pre></div> </div></div><div class=\"sk-parallel\"><div class=\"sk-parallel-item\"><div class=\"sk-item\"><div class=\"sk-label-container\"><div class=\"sk-label fitted sk-toggleable\"><input class=\"sk-toggleable__control sk-hidden--visually\" id=\"sk-estimator-id-9\" type=\"checkbox\" ><label for=\"sk-estimator-id-9\" class=\"sk-toggleable__label fitted sk-toggleable__label-arrow\"><div><div>best_estimator_: Pipeline</div></div></label><div class=\"sk-toggleable__content fitted\"><pre>Pipeline(steps=[(&#x27;preprocessor&#x27;,\n",
              "                 ColumnTransformer(transformers=[(&#x27;num&#x27;, StandardScaler(),\n",
              "                                                  Index([&#x27;age&#x27;, &#x27;biological_parents&#x27;, &#x27;hh_age&#x27;, &#x27;hh_size&#x27;, &#x27;hh_males&#x27;,\n",
              "       &#x27;hh_females&#x27;, &#x27;asset_tv&#x27;, &#x27;asset_radio&#x27;, &#x27;asset_computer&#x27;,\n",
              "       &#x27;asset_phone&#x27;, &#x27;asset_car&#x27;, &#x27;asset_motorbike&#x27;, &#x27;asset_bicycle&#x27;,\n",
              "       &#x27;asset_cattle&#x27;, &#x27;asset_sheep_goat&#x27;, &#x27;asset_elec&#x27;, &#x27;asset_water&#x27;,\n",
              "       &#x27;urban_code&#x27;],\n",
              "      dtype=&#x27;object&#x27;)),\n",
              "                                                 (&#x27;cat&#x27;,\n",
              "                                                  OneHotEncoder(drop=&#x27;first&#x27;,\n",
              "                                                                handle_unknown=&#x27;ignore&#x27;),\n",
              "                                                  Index([&#x27;gender&#x27;, &#x27;disability&#x27;, &#x27;mothers_edu&#x27;, &#x27;mothers_toschool&#x27;, &#x27;hh_edu&#x27;,\n",
              "       &#x27;hh_gender&#x27;, &#x27;asset_toilet&#x27;, &#x27;water_source&#x27;, &#x27;water_source_distance&#x27;,\n",
              "       &#x27;id_regionName&#x27;, &#x27;id_districtName&#x27;],\n",
              "      dtype=&#x27;object&#x27;))])),\n",
              "                (&#x27;classifier&#x27;,\n",
              "                 RandomForestClassifier(n_estimators=200, random_state=42))])</pre></div> </div></div><div class=\"sk-serial\"><div class=\"sk-item\"><div class=\"sk-serial\"><div class=\"sk-item sk-dashed-wrapped\"><div class=\"sk-label-container\"><div class=\"sk-label fitted sk-toggleable\"><input class=\"sk-toggleable__control sk-hidden--visually\" id=\"sk-estimator-id-10\" type=\"checkbox\" ><label for=\"sk-estimator-id-10\" class=\"sk-toggleable__label fitted sk-toggleable__label-arrow\"><div><div>preprocessor: ColumnTransformer</div></div><div><a class=\"sk-estimator-doc-link fitted\" rel=\"noreferrer\" target=\"_blank\" href=\"https://scikit-learn.org/1.6/modules/generated/sklearn.compose.ColumnTransformer.html\">?<span>Documentation for preprocessor: ColumnTransformer</span></a></div></label><div class=\"sk-toggleable__content fitted\"><pre>ColumnTransformer(transformers=[(&#x27;num&#x27;, StandardScaler(),\n",
              "                                 Index([&#x27;age&#x27;, &#x27;biological_parents&#x27;, &#x27;hh_age&#x27;, &#x27;hh_size&#x27;, &#x27;hh_males&#x27;,\n",
              "       &#x27;hh_females&#x27;, &#x27;asset_tv&#x27;, &#x27;asset_radio&#x27;, &#x27;asset_computer&#x27;,\n",
              "       &#x27;asset_phone&#x27;, &#x27;asset_car&#x27;, &#x27;asset_motorbike&#x27;, &#x27;asset_bicycle&#x27;,\n",
              "       &#x27;asset_cattle&#x27;, &#x27;asset_sheep_goat&#x27;, &#x27;asset_elec&#x27;, &#x27;asset_water&#x27;,\n",
              "       &#x27;urban_code&#x27;],\n",
              "      dtype=&#x27;object&#x27;)),\n",
              "                                (&#x27;cat&#x27;,\n",
              "                                 OneHotEncoder(drop=&#x27;first&#x27;,\n",
              "                                               handle_unknown=&#x27;ignore&#x27;),\n",
              "                                 Index([&#x27;gender&#x27;, &#x27;disability&#x27;, &#x27;mothers_edu&#x27;, &#x27;mothers_toschool&#x27;, &#x27;hh_edu&#x27;,\n",
              "       &#x27;hh_gender&#x27;, &#x27;asset_toilet&#x27;, &#x27;water_source&#x27;, &#x27;water_source_distance&#x27;,\n",
              "       &#x27;id_regionName&#x27;, &#x27;id_districtName&#x27;],\n",
              "      dtype=&#x27;object&#x27;))])</pre></div> </div></div><div class=\"sk-parallel\"><div class=\"sk-parallel-item\"><div class=\"sk-item\"><div class=\"sk-label-container\"><div class=\"sk-label fitted sk-toggleable\"><input class=\"sk-toggleable__control sk-hidden--visually\" id=\"sk-estimator-id-11\" type=\"checkbox\" ><label for=\"sk-estimator-id-11\" class=\"sk-toggleable__label fitted sk-toggleable__label-arrow\"><div><div>num</div></div></label><div class=\"sk-toggleable__content fitted\"><pre>Index([&#x27;age&#x27;, &#x27;biological_parents&#x27;, &#x27;hh_age&#x27;, &#x27;hh_size&#x27;, &#x27;hh_males&#x27;,\n",
              "       &#x27;hh_females&#x27;, &#x27;asset_tv&#x27;, &#x27;asset_radio&#x27;, &#x27;asset_computer&#x27;,\n",
              "       &#x27;asset_phone&#x27;, &#x27;asset_car&#x27;, &#x27;asset_motorbike&#x27;, &#x27;asset_bicycle&#x27;,\n",
              "       &#x27;asset_cattle&#x27;, &#x27;asset_sheep_goat&#x27;, &#x27;asset_elec&#x27;, &#x27;asset_water&#x27;,\n",
              "       &#x27;urban_code&#x27;],\n",
              "      dtype=&#x27;object&#x27;)</pre></div> </div></div><div class=\"sk-serial\"><div class=\"sk-item\"><div class=\"sk-estimator fitted sk-toggleable\"><input class=\"sk-toggleable__control sk-hidden--visually\" id=\"sk-estimator-id-12\" type=\"checkbox\" ><label for=\"sk-estimator-id-12\" class=\"sk-toggleable__label fitted sk-toggleable__label-arrow\"><div><div>StandardScaler</div></div><div><a class=\"sk-estimator-doc-link fitted\" rel=\"noreferrer\" target=\"_blank\" href=\"https://scikit-learn.org/1.6/modules/generated/sklearn.preprocessing.StandardScaler.html\">?<span>Documentation for StandardScaler</span></a></div></label><div class=\"sk-toggleable__content fitted\"><pre>StandardScaler()</pre></div> </div></div></div></div></div><div class=\"sk-parallel-item\"><div class=\"sk-item\"><div class=\"sk-label-container\"><div class=\"sk-label fitted sk-toggleable\"><input class=\"sk-toggleable__control sk-hidden--visually\" id=\"sk-estimator-id-13\" type=\"checkbox\" ><label for=\"sk-estimator-id-13\" class=\"sk-toggleable__label fitted sk-toggleable__label-arrow\"><div><div>cat</div></div></label><div class=\"sk-toggleable__content fitted\"><pre>Index([&#x27;gender&#x27;, &#x27;disability&#x27;, &#x27;mothers_edu&#x27;, &#x27;mothers_toschool&#x27;, &#x27;hh_edu&#x27;,\n",
              "       &#x27;hh_gender&#x27;, &#x27;asset_toilet&#x27;, &#x27;water_source&#x27;, &#x27;water_source_distance&#x27;,\n",
              "       &#x27;id_regionName&#x27;, &#x27;id_districtName&#x27;],\n",
              "      dtype=&#x27;object&#x27;)</pre></div> </div></div><div class=\"sk-serial\"><div class=\"sk-item\"><div class=\"sk-estimator fitted sk-toggleable\"><input class=\"sk-toggleable__control sk-hidden--visually\" id=\"sk-estimator-id-14\" type=\"checkbox\" ><label for=\"sk-estimator-id-14\" class=\"sk-toggleable__label fitted sk-toggleable__label-arrow\"><div><div>OneHotEncoder</div></div><div><a class=\"sk-estimator-doc-link fitted\" rel=\"noreferrer\" target=\"_blank\" href=\"https://scikit-learn.org/1.6/modules/generated/sklearn.preprocessing.OneHotEncoder.html\">?<span>Documentation for OneHotEncoder</span></a></div></label><div class=\"sk-toggleable__content fitted\"><pre>OneHotEncoder(drop=&#x27;first&#x27;, handle_unknown=&#x27;ignore&#x27;)</pre></div> </div></div></div></div></div></div></div><div class=\"sk-item\"><div class=\"sk-estimator fitted sk-toggleable\"><input class=\"sk-toggleable__control sk-hidden--visually\" id=\"sk-estimator-id-15\" type=\"checkbox\" ><label for=\"sk-estimator-id-15\" class=\"sk-toggleable__label fitted sk-toggleable__label-arrow\"><div><div>RandomForestClassifier</div></div><div><a class=\"sk-estimator-doc-link fitted\" rel=\"noreferrer\" target=\"_blank\" href=\"https://scikit-learn.org/1.6/modules/generated/sklearn.ensemble.RandomForestClassifier.html\">?<span>Documentation for RandomForestClassifier</span></a></div></label><div class=\"sk-toggleable__content fitted\"><pre>RandomForestClassifier(n_estimators=200, random_state=42)</pre></div> </div></div></div></div></div></div></div></div></div></div></div>"
            ]
          },
          "metadata": {},
          "execution_count": 25
        }
      ]
    },
    {
      "cell_type": "code",
      "source": [
        "# Best parameters and model\n",
        "print(\"\\nBest Parameters:\", grid_search.best_params_)\n",
        "best_model = grid_search.best_estimator_"
      ],
      "metadata": {
        "id": "pzEfkJlSbejA",
        "colab": {
          "base_uri": "https://localhost:8080/",
          "height": 0
        },
        "outputId": "ba757d80-92b1-4288-ec68-d46f3b183a9e"
      },
      "execution_count": 51,
      "outputs": [
        {
          "output_type": "stream",
          "name": "stdout",
          "text": [
            "\n",
            "Best Parameters: {'classifier__criterion': 'gini', 'classifier__max_depth': None, 'classifier__min_samples_split': 2, 'classifier__n_estimators': 200}\n"
          ]
        }
      ]
    },
    {
      "cell_type": "code",
      "source": [
        "# Evaluate best model on test set\n",
        "y_test_pred = best_model.predict(X_test)\n",
        "print(\"\\nTest Set Performance (Tuned Model):\")\n",
        "print(classification_report(y_test, y_test_pred))"
      ],
      "metadata": {
        "id": "tmtM0uRWbqrI",
        "colab": {
          "base_uri": "https://localhost:8080/",
          "height": 0
        },
        "outputId": "fba00d76-052e-49e4-865f-9bf9ed640f34"
      },
      "execution_count": 52,
      "outputs": [
        {
          "output_type": "stream",
          "name": "stdout",
          "text": [
            "\n",
            "Test Set Performance (Tuned Model):\n",
            "              precision    recall  f1-score   support\n",
            "\n",
            "           0       0.87      0.90      0.88        98\n",
            "           1       0.89      0.87      0.88        97\n",
            "\n",
            "    accuracy                           0.88       195\n",
            "   macro avg       0.88      0.88      0.88       195\n",
            "weighted avg       0.88      0.88      0.88       195\n",
            "\n"
          ]
        }
      ]
    },
    {
      "cell_type": "code",
      "source": [
        "# Plot confusion matrix for test set\n",
        "cm = confusion_matrix(y_test, y_test_pred)\n",
        "plt.figure(figsize=(8, 6))\n",
        "sns.heatmap(cm, annot=True, fmt='d', cmap='Blues', xticklabels=['No', 'Yes'], yticklabels=['No', 'Yes'])\n",
        "plt.title('Confusion Matrix - Test Set (Tuned Model)')\n",
        "plt.xlabel('Predicted')\n",
        "plt.ylabel('Actual')\n",
        "plt.show()\n"
      ],
      "metadata": {
        "id": "SEFpq7Lrb0FC",
        "colab": {
          "base_uri": "https://localhost:8080/",
          "height": 564
        },
        "outputId": "cc350926-6060-45e0-87f4-c7b1bb65bee5"
      },
      "execution_count": 58,
      "outputs": [
        {
          "output_type": "display_data",
          "data": {
            "text/plain": [
              "<Figure size 800x600 with 2 Axes>"
            ],
            "image/png": "[encoded data removed]"
          },
          "metadata": {}
        }
      ]
    },
    {
      "cell_type": "code",
      "source": [
        "# Generate feature importance report\n",
        "feature_names = (numerical_cols.tolist() +\n",
        "                 best_model.named_steps['preprocessor']\n",
        "                 .named_transformers_['cat']\n",
        "                 .get_feature_names_out(categorical_cols).tolist())\n",
        "importances = best_model.named_steps['classifier'].feature_importances_\n",
        "feature_importance_df = pd.DataFrame({'Feature': feature_names, 'Importance': importances})\n",
        "feature_importance_df = feature_importance_df.sort_values(by='Importance', ascending=False)\n",
        "\n",
        "# Print feature importance report\n",
        "print(\"\\nFeature Importance Report (Top Influential Features for Dropout Prediction):\")\n",
        "print(feature_importance_df)"
      ],
      "metadata": {
        "id": "y7u9EV6udAX_",
        "colab": {
          "base_uri": "https://localhost:8080/",
          "height": 0
        },
        "outputId": "f212db24-820e-439f-9fba-ca1e45af9d5f"
      },
      "execution_count": 29,
      "outputs": [
        {
          "output_type": "stream",
          "name": "stdout",
          "text": [
            "\n",
            "Feature Importance Report (Top Influential Features for Dropout Prediction):\n",
            "                       Feature  Importance\n",
            "0                          age    0.168361\n",
            "2                       hh_age    0.074258\n",
            "3                      hh_size    0.053478\n",
            "5                   hh_females    0.044686\n",
            "4                     hh_males    0.042896\n",
            "..                         ...         ...\n",
            "125    id_districtName_Mityana    0.000265\n",
            "134  id_districtName_Namayingo    0.000129\n",
            "57      id_districtName_Bududa    0.000118\n",
            "147  id_districtName_Rukungiri    0.000042\n",
            "36     water_source_Rain water    0.000031\n",
            "\n",
            "[157 rows x 2 columns]\n"
          ]
        }
      ]
    },
    {
      "cell_type": "markdown",
      "source": [
        "## Random Forest Classifier Summary  \n",
        "\n",
        "The tuned Random Forest classifier achieved an overall **accuracy of 88%** on the test set, with strong and balanced performance across both classes:  \n",
        "\n",
        "- **Precision (No Dropout = 0.87, Dropout = 0.89)** → This means the model is highly reliable in its predictions, minimizing false alarms.  \n",
        "- **Recall (No Dropout = 0.90, Dropout = 0.87)** → The model is effective at correctly identifying both students who stay in school and those at risk of dropping out.  \n",
        "- **F1-score (≈0.88 for both classes)** → Indicates a strong balance between precision and recall, showing that the model is consistent across categories.  \n",
        "\n",
        "### Insights from the Classification Report  \n",
        "- The model is **slightly better at identifying students who will not drop out** (higher recall for class 0), but still performs very well in detecting those at risk of dropout (class 1).  \n",
        "- This balance is particularly important for stakeholders because false negatives (missing a child who will drop out) are minimized, while false positives (wrongly predicting dropout) are also low.  \n",
        "\n",
        "### Feature Importance Findings  \n",
        "Random Forest also provides interpretability through feature importance. The most influential features were:  \n",
        "\n",
        "1. **Student Age (`age`, importance = 0.168)** → Older students show different dropout patterns compared to younger ones, making age the most critical predictor.  \n",
        "2. **Household Head Age (`hh_age`, 0.074)** → Suggests that the age of the household head may affect the likelihood of children staying in school, possibly reflecting economic or caregiving capacity.  \n",
        "3. **Household Size (`hh_size`, 0.053)** → Larger households might struggle with distributing resources, increasing dropout risk.  \n",
        "4. **Household Gender Composition (`hh_females` = 0.045, `hh_males` = 0.043)** → Gender balance within households may influence educational investment decisions.  \n",
        "\n",
        "Interestingly, many district-related features had **very low importance**, suggesting that dropout risks are better explained by **household and individual characteristics** rather than location alone.  \n",
        "\n",
        "### Stakeholder Implications  \n",
        "For policymakers, NGOs, and education officers, this model highlights **key social and demographic factors** that can guide interventions:  \n",
        "- **Targeting older children** with tailored retention programs.  \n",
        "- **Supporting large households** that may struggle with school-related expenses.  \n",
        "- **Considering household head demographics** in program design.  \n",
        "\n",
        "Overall, the Random Forest model not only delivers strong predictive accuracy but also provides **actionable insights** into the drivers of school dropout, making it a valuable tool for data-driven decision-making.  \n"
      ],
      "metadata": {
        "id": "ZA_80zQIm16a"
      }
    },
    {
      "cell_type": "markdown",
      "source": [
        "**NERUAL NETWORKS**\n",
        "By Eugene Katusiime"
      ],
      "metadata": {
        "id": "0K9emXq9DFw2"
      }
    },
    {
      "cell_type": "code",
      "source": [
        "# Import TensorFlow and Keras\n",
        "import tensorflow as tf\n",
        "from tensorflow import keras\n",
        "from tensorflow.keras import layers"
      ],
      "metadata": {
        "id": "TDCbL2q2HJa2"
      },
      "execution_count": 131,
      "outputs": []
    },
    {
      "cell_type": "code",
      "metadata": {
        "id": "deaa9a3a",
        "colab": {
          "base_uri": "https://localhost:8080/",
          "height": 0
        },
        "outputId": "9fa4129a-c8be-44ec-84f0-b349cfde84ff"
      },
      "source": [
        "# Separate features (X) and target (y)\n",
        "X = df_final.drop(\"dropout\", axis=1)\n",
        "y = df_final[\"dropout\"].apply(lambda x: 1 if x == \"Yes\" else 0)\n",
        "\n",
        "# Split data into training and testing sets\n",
        "# First, split into training (70%) and a temporary set (30%)\n",
        "X_train, X_temp, y_train, y_temp = train_test_split(X, y, test_size=0.3, random_state=42, stratify=y)\n",
        "# Next, split the temporary set into validation (15%) and test (15%)\n",
        "X_val, X_test, y_val, y_test = train_test_split(X_temp, y_temp, test_size=0.5, random_state=42, stratify=y_temp)\n",
        "\n",
        "print(\"X_train shape:\", X_train.shape)\n",
        "print(\"X_test shape:\", X_test.shape)\n",
        "print(\"y_train shape:\", y_train.shape)\n",
        "print(\"y_test shape:\", y_test.shape)"
      ],
      "execution_count": 145,
      "outputs": [
        {
          "output_type": "stream",
          "name": "stdout",
          "text": [
            "X_train shape: (1363, 29)\n",
            "X_test shape: (293, 29)\n",
            "y_train shape: (1363,)\n",
            "y_test shape: (293,)\n"
          ]
        }
      ]
    },
    {
      "cell_type": "code",
      "metadata": {
        "id": "72864aea",
        "colab": {
          "base_uri": "https://localhost:8080/",
          "height": 0
        },
        "outputId": "4c023741-b8a1-4ee6-cbf7-77f23bbf6b1a"
      },
      "source": [
        "# Identify categorical and numerical features\n",
        "categorical_features = X_train.select_dtypes(include=['object', 'category']).columns\n",
        "numerical_features = X_train.select_dtypes(include=np.number).columns\n",
        "\n",
        "# Create preprocessing pipelines for numerical and categorical features\n",
        "numerical_transformer = Pipeline(steps=[\n",
        "    ('imputer', SimpleImputer(strategy='median')), # Handles missing values\n",
        "    ('scaler', StandardScaler())\n",
        "])\n",
        "\n",
        "categorical_transformer = Pipeline(steps=[\n",
        "    ('onehot', OneHotEncoder(handle_unknown='ignore', drop='first'))\n",
        "])\n",
        "\n",
        "# Combine preprocessing steps using ColumnTransformer\n",
        "preprocessor = ColumnTransformer(\n",
        "    transformers=[\n",
        "        ('num', numerical_transformer, numerical_features),\n",
        "        ('cat', categorical_transformer, categorical_features)\n",
        "    ])\n",
        "\n",
        "# Apply preprocessing to all three data splits\n",
        "X_train_processed = preprocessor.fit_transform(X_train)\n",
        "X_val_processed = preprocessor.transform(X_val) # Use the new validation set\n",
        "X_test_processed = preprocessor.transform(X_test)\n",
        "\n",
        "print(\"X_train_processed shape:\", X_train_processed.shape)\n",
        "print(\"X_val_processed shape:\", X_val_processed.shape)\n",
        "print(\"X_test_processed shape:\", X_test_processed.shape)"
      ],
      "execution_count": 146,
      "outputs": [
        {
          "output_type": "stream",
          "name": "stdout",
          "text": [
            "X_train_processed shape: (1363, 151)\n",
            "X_val_processed shape: (292, 151)\n",
            "X_test_processed shape: (293, 151)\n"
          ]
        }
      ]
    },
    {
      "cell_type": "code",
      "source": [
        "model = keras.Sequential()\n",
        "\n",
        "input_dim = X_train_processed.shape[1]\n",
        "\n",
        "# Layer 1\n",
        "model.add(layers.Dense(64, activation=\"relu\", input_dim=input_dim))\n",
        "model.add(layers.BatchNormalization())   # ✅ stabilizes training\n",
        "model.add(layers.Dropout(0.3))\n",
        "\n",
        "# Layer 2\n",
        "model.add(layers.Dense(32, activation=\"relu\"))\n",
        "model.add(layers.BatchNormalization())\n",
        "model.add(layers.Dropout(0.3))\n",
        "\n",
        "# Layer 3\n",
        "model.add(layers.Dense(16, activation=\"relu\"))\n",
        "model.add(layers.BatchNormalization())\n",
        "model.add(layers.Dropout(0.2))\n",
        "\n",
        "# Output\n",
        "model.add(layers.Dense(1, activation=\"sigmoid\"))\n",
        "\n",
        "# Compile\n",
        "model.compile(\n",
        "    optimizer=\"adam\",\n",
        "    loss=\"binary_crossentropy\",\n",
        "    metrics=[\"accuracy\", keras.metrics.Precision(), keras.metrics.Recall()]\n",
        ")\n",
        "\n",
        "model.summary()"
      ],
      "metadata": {
        "colab": {
          "base_uri": "https://localhost:8080/",
          "height": 574
        },
        "id": "m5ou9zAbVQR2",
        "outputId": "58e558c2-6d5f-47e0-c3c1-015388a9c34a"
      },
      "execution_count": 147,
      "outputs": [
        {
          "output_type": "stream",
          "name": "stderr",
          "text": [
            "/usr/local/lib/python3.12/dist-packages/keras/src/layers/core/dense.py:93: UserWarning: Do not pass an `input_shape`/`input_dim` argument to a layer. When using Sequential models, prefer using an `Input(shape)` object as the first layer in the model instead.\n",
            "  super().__init__(activity_regularizer=activity_regularizer, **kwargs)\n"
          ]
        },
        {
          "output_type": "display_data",
          "data": {
            "text/plain": [
              "\u001b[1mModel: \"sequential_15\"\u001b[0m\n"
            ],
            "text/html": [
              "<pre style=\"white-space:pre;overflow-x:auto;line-height:normal;font-family:Menlo,'DejaVu Sans Mono',consolas,'Courier New',monospace\"><span style=\"font-weight: bold\">Model: \"sequential_15\"</span>\n",
              "</pre>\n"
            ]
          },
          "metadata": {}
        },
        {
          "output_type": "display_data",
          "data": {
            "text/plain": [
              "┏━━━━━━━━━━━━━━━━━━━━━━━━━━━━━━━━━┳━━━━━━━━━━━━━━━━━━━━━━━━┳━━━━━━━━━━━━━━━┓\n",
              "┃\u001b[1m \u001b[0m\u001b[1mLayer (type)                   \u001b[0m\u001b[1m \u001b[0m┃\u001b[1m \u001b[0m\u001b[1mOutput Shape          \u001b[0m\u001b[1m \u001b[0m┃\u001b[1m \u001b[0m\u001b[1m      Param #\u001b[0m\u001b[1m \u001b[0m┃\n",
              "┡━━━━━━━━━━━━━━━━━━━━━━━━━━━━━━━━━╇━━━━━━━━━━━━━━━━━━━━━━━━╇━━━━━━━━━━━━━━━┩\n",
              "│ dense_61 (\u001b[38;5;33mDense\u001b[0m)                │ (\u001b[38;5;45mNone\u001b[0m, \u001b[38;5;34m64\u001b[0m)             │         \u001b[38;5;34m9,728\u001b[0m │\n",
              "├─────────────────────────────────┼────────────────────────┼───────────────┤\n",
              "│ batch_normalization_31          │ (\u001b[38;5;45mNone\u001b[0m, \u001b[38;5;34m64\u001b[0m)             │           \u001b[38;5;34m256\u001b[0m │\n",
              "│ (\u001b[38;5;33mBatchNormalization\u001b[0m)            │                        │               │\n",
              "├─────────────────────────────────┼────────────────────────┼───────────────┤\n",
              "│ dropout_46 (\u001b[38;5;33mDropout\u001b[0m)            │ (\u001b[38;5;45mNone\u001b[0m, \u001b[38;5;34m64\u001b[0m)             │             \u001b[38;5;34m0\u001b[0m │\n",
              "├─────────────────────────────────┼────────────────────────┼───────────────┤\n",
              "│ dense_62 (\u001b[38;5;33mDense\u001b[0m)                │ (\u001b[38;5;45mNone\u001b[0m, \u001b[38;5;34m32\u001b[0m)             │         \u001b[38;5;34m2,080\u001b[0m │\n",
              "├─────────────────────────────────┼────────────────────────┼───────────────┤\n",
              "│ batch_normalization_32          │ (\u001b[38;5;45mNone\u001b[0m, \u001b[38;5;34m32\u001b[0m)             │           \u001b[38;5;34m128\u001b[0m │\n",
              "│ (\u001b[38;5;33mBatchNormalization\u001b[0m)            │                        │               │\n",
              "├─────────────────────────────────┼────────────────────────┼───────────────┤\n",
              "│ dropout_47 (\u001b[38;5;33mDropout\u001b[0m)            │ (\u001b[38;5;45mNone\u001b[0m, \u001b[38;5;34m32\u001b[0m)             │             \u001b[38;5;34m0\u001b[0m │\n",
              "├─────────────────────────────────┼────────────────────────┼───────────────┤\n",
              "│ dense_63 (\u001b[38;5;33mDense\u001b[0m)                │ (\u001b[38;5;45mNone\u001b[0m, \u001b[38;5;34m16\u001b[0m)             │           \u001b[38;5;34m528\u001b[0m │\n",
              "├─────────────────────────────────┼────────────────────────┼───────────────┤\n",
              "│ batch_normalization_33          │ (\u001b[38;5;45mNone\u001b[0m, \u001b[38;5;34m16\u001b[0m)             │            \u001b[38;5;34m64\u001b[0m │\n",
              "│ (\u001b[38;5;33mBatchNormalization\u001b[0m)            │                        │               │\n",
              "├─────────────────────────────────┼────────────────────────┼───────────────┤\n",
              "│ dropout_48 (\u001b[38;5;33mDropout\u001b[0m)            │ (\u001b[38;5;45mNone\u001b[0m, \u001b[38;5;34m16\u001b[0m)             │             \u001b[38;5;34m0\u001b[0m │\n",
              "├─────────────────────────────────┼────────────────────────┼───────────────┤\n",
              "│ dense_64 (\u001b[38;5;33mDense\u001b[0m)                │ (\u001b[38;5;45mNone\u001b[0m, \u001b[38;5;34m1\u001b[0m)              │            \u001b[38;5;34m17\u001b[0m │\n",
              "└─────────────────────────────────┴────────────────────────┴───────────────┘\n"
            ],
            "text/html": [
              "<pre style=\"white-space:pre;overflow-x:auto;line-height:normal;font-family:Menlo,'DejaVu Sans Mono',consolas,'Courier New',monospace\">┏━━━━━━━━━━━━━━━━━━━━━━━━━━━━━━━━━┳━━━━━━━━━━━━━━━━━━━━━━━━┳━━━━━━━━━━━━━━━┓\n",
              "┃<span style=\"font-weight: bold\"> Layer (type)                    </span>┃<span style=\"font-weight: bold\"> Output Shape           </span>┃<span style=\"font-weight: bold\">       Param # </span>┃\n",
              "┡━━━━━━━━━━━━━━━━━━━━━━━━━━━━━━━━━╇━━━━━━━━━━━━━━━━━━━━━━━━╇━━━━━━━━━━━━━━━┩\n",
              "│ dense_61 (<span style=\"color: #0087ff; text-decoration-color: #0087ff\">Dense</span>)                │ (<span style=\"color: #00d7ff; text-decoration-color: #00d7ff\">None</span>, <span style=\"color: #00af00; text-decoration-color: #00af00\">64</span>)             │         <span style=\"color: #00af00; text-decoration-color: #00af00\">9,728</span> │\n",
              "├─────────────────────────────────┼────────────────────────┼───────────────┤\n",
              "│ batch_normalization_31          │ (<span style=\"color: #00d7ff; text-decoration-color: #00d7ff\">None</span>, <span style=\"color: #00af00; text-decoration-color: #00af00\">64</span>)             │           <span style=\"color: #00af00; text-decoration-color: #00af00\">256</span> │\n",
              "│ (<span style=\"color: #0087ff; text-decoration-color: #0087ff\">BatchNormalization</span>)            │                        │               │\n",
              "├─────────────────────────────────┼────────────────────────┼───────────────┤\n",
              "│ dropout_46 (<span style=\"color: #0087ff; text-decoration-color: #0087ff\">Dropout</span>)            │ (<span style=\"color: #00d7ff; text-decoration-color: #00d7ff\">None</span>, <span style=\"color: #00af00; text-decoration-color: #00af00\">64</span>)             │             <span style=\"color: #00af00; text-decoration-color: #00af00\">0</span> │\n",
              "├─────────────────────────────────┼────────────────────────┼───────────────┤\n",
              "│ dense_62 (<span style=\"color: #0087ff; text-decoration-color: #0087ff\">Dense</span>)                │ (<span style=\"color: #00d7ff; text-decoration-color: #00d7ff\">None</span>, <span style=\"color: #00af00; text-decoration-color: #00af00\">32</span>)             │         <span style=\"color: #00af00; text-decoration-color: #00af00\">2,080</span> │\n",
              "├─────────────────────────────────┼────────────────────────┼───────────────┤\n",
              "│ batch_normalization_32          │ (<span style=\"color: #00d7ff; text-decoration-color: #00d7ff\">None</span>, <span style=\"color: #00af00; text-decoration-color: #00af00\">32</span>)             │           <span style=\"color: #00af00; text-decoration-color: #00af00\">128</span> │\n",
              "│ (<span style=\"color: #0087ff; text-decoration-color: #0087ff\">BatchNormalization</span>)            │                        │               │\n",
              "├─────────────────────────────────┼────────────────────────┼───────────────┤\n",
              "│ dropout_47 (<span style=\"color: #0087ff; text-decoration-color: #0087ff\">Dropout</span>)            │ (<span style=\"color: #00d7ff; text-decoration-color: #00d7ff\">None</span>, <span style=\"color: #00af00; text-decoration-color: #00af00\">32</span>)             │             <span style=\"color: #00af00; text-decoration-color: #00af00\">0</span> │\n",
              "├─────────────────────────────────┼────────────────────────┼───────────────┤\n",
              "│ dense_63 (<span style=\"color: #0087ff; text-decoration-color: #0087ff\">Dense</span>)                │ (<span style=\"color: #00d7ff; text-decoration-color: #00d7ff\">None</span>, <span style=\"color: #00af00; text-decoration-color: #00af00\">16</span>)             │           <span style=\"color: #00af00; text-decoration-color: #00af00\">528</span> │\n",
              "├─────────────────────────────────┼────────────────────────┼───────────────┤\n",
              "│ batch_normalization_33          │ (<span style=\"color: #00d7ff; text-decoration-color: #00d7ff\">None</span>, <span style=\"color: #00af00; text-decoration-color: #00af00\">16</span>)             │            <span style=\"color: #00af00; text-decoration-color: #00af00\">64</span> │\n",
              "│ (<span style=\"color: #0087ff; text-decoration-color: #0087ff\">BatchNormalization</span>)            │                        │               │\n",
              "├─────────────────────────────────┼────────────────────────┼───────────────┤\n",
              "│ dropout_48 (<span style=\"color: #0087ff; text-decoration-color: #0087ff\">Dropout</span>)            │ (<span style=\"color: #00d7ff; text-decoration-color: #00d7ff\">None</span>, <span style=\"color: #00af00; text-decoration-color: #00af00\">16</span>)             │             <span style=\"color: #00af00; text-decoration-color: #00af00\">0</span> │\n",
              "├─────────────────────────────────┼────────────────────────┼───────────────┤\n",
              "│ dense_64 (<span style=\"color: #0087ff; text-decoration-color: #0087ff\">Dense</span>)                │ (<span style=\"color: #00d7ff; text-decoration-color: #00d7ff\">None</span>, <span style=\"color: #00af00; text-decoration-color: #00af00\">1</span>)              │            <span style=\"color: #00af00; text-decoration-color: #00af00\">17</span> │\n",
              "└─────────────────────────────────┴────────────────────────┴───────────────┘\n",
              "</pre>\n"
            ]
          },
          "metadata": {}
        },
        {
          "output_type": "display_data",
          "data": {
            "text/plain": [
              "\u001b[1m Total params: \u001b[0m\u001b[38;5;34m12,801\u001b[0m (50.00 KB)\n"
            ],
            "text/html": [
              "<pre style=\"white-space:pre;overflow-x:auto;line-height:normal;font-family:Menlo,'DejaVu Sans Mono',consolas,'Courier New',monospace\"><span style=\"font-weight: bold\"> Total params: </span><span style=\"color: #00af00; text-decoration-color: #00af00\">12,801</span> (50.00 KB)\n",
              "</pre>\n"
            ]
          },
          "metadata": {}
        },
        {
          "output_type": "display_data",
          "data": {
            "text/plain": [
              "\u001b[1m Trainable params: \u001b[0m\u001b[38;5;34m12,577\u001b[0m (49.13 KB)\n"
            ],
            "text/html": [
              "<pre style=\"white-space:pre;overflow-x:auto;line-height:normal;font-family:Menlo,'DejaVu Sans Mono',consolas,'Courier New',monospace\"><span style=\"font-weight: bold\"> Trainable params: </span><span style=\"color: #00af00; text-decoration-color: #00af00\">12,577</span> (49.13 KB)\n",
              "</pre>\n"
            ]
          },
          "metadata": {}
        },
        {
          "output_type": "display_data",
          "data": {
            "text/plain": [
              "\u001b[1m Non-trainable params: \u001b[0m\u001b[38;5;34m224\u001b[0m (896.00 B)\n"
            ],
            "text/html": [
              "<pre style=\"white-space:pre;overflow-x:auto;line-height:normal;font-family:Menlo,'DejaVu Sans Mono',consolas,'Courier New',monospace\"><span style=\"font-weight: bold\"> Non-trainable params: </span><span style=\"color: #00af00; text-decoration-color: #00af00\">224</span> (896.00 B)\n",
              "</pre>\n"
            ]
          },
          "metadata": {}
        }
      ]
    },
    {
      "cell_type": "code",
      "source": [
        "# Early stopping callback\n",
        "early_stop = EarlyStopping(\n",
        "    monitor=\"val_loss\",\n",
        "    patience=5,              # stop if no improvement for 5 epochs\n",
        "    restore_best_weights=True\n",
        ")\n",
        "\n",
        "lr_scheduler = keras.callbacks.ReduceLROnPlateau(\n",
        "    monitor=\"val_loss\", factor=0.5, patience=3, min_lr=1e-5\n",
        ")\n",
        "\n",
        "# Train the model with early stopping\n",
        "history = model.fit(\n",
        "    X_train_processed,\n",
        "    y_train,\n",
        "    validation_data=(X_test_processed, y_test),\n",
        "    epochs=50,         # can go higher, early stopping will cut it\n",
        "    batch_size=32,\n",
        "    verbose=1,\n",
        "    callbacks=[early_stop, lr_scheduler]\n",
        ")"
      ],
      "metadata": {
        "colab": {
          "base_uri": "https://localhost:8080/",
          "height": 0
        },
        "id": "37QzJ0D5VW85",
        "outputId": "528690a7-8efb-4881-a06d-179dc6468426"
      },
      "execution_count": 148,
      "outputs": [
        {
          "output_type": "stream",
          "name": "stdout",
          "text": [
            "Epoch 1/50\n",
            "\u001b[1m43/43\u001b[0m \u001b[32m━━━━━━━━━━━━━━━━━━━━\u001b[0m\u001b[37m\u001b[0m \u001b[1m4s\u001b[0m 20ms/step - accuracy: 0.5070 - loss: 0.7819 - precision_15: 0.4864 - recall_15: 0.5483 - val_accuracy: 0.6041 - val_loss: 0.6706 - val_precision_15: 0.7083 - val_recall_15: 0.3493 - learning_rate: 0.0010\n",
            "Epoch 2/50\n",
            "\u001b[1m43/43\u001b[0m \u001b[32m━━━━━━━━━━━━━━━━━━━━\u001b[0m\u001b[37m\u001b[0m \u001b[1m0s\u001b[0m 7ms/step - accuracy: 0.6174 - loss: 0.6717 - precision_15: 0.6313 - recall_15: 0.6379 - val_accuracy: 0.7167 - val_loss: 0.6355 - val_precision_15: 0.7561 - val_recall_15: 0.6370 - learning_rate: 0.0010\n",
            "Epoch 3/50\n",
            "\u001b[1m43/43\u001b[0m \u001b[32m━━━━━━━━━━━━━━━━━━━━\u001b[0m\u001b[37m\u001b[0m \u001b[1m0s\u001b[0m 10ms/step - accuracy: 0.6363 - loss: 0.6531 - precision_15: 0.6475 - recall_15: 0.6342 - val_accuracy: 0.7577 - val_loss: 0.5975 - val_precision_15: 0.7483 - val_recall_15: 0.7740 - learning_rate: 0.0010\n",
            "Epoch 4/50\n",
            "\u001b[1m43/43\u001b[0m \u001b[32m━━━━━━━━━━━━━━━━━━━━\u001b[0m\u001b[37m\u001b[0m \u001b[1m0s\u001b[0m 7ms/step - accuracy: 0.6881 - loss: 0.5800 - precision_15: 0.7013 - recall_15: 0.7113 - val_accuracy: 0.7577 - val_loss: 0.5647 - val_precision_15: 0.7358 - val_recall_15: 0.8014 - learning_rate: 0.0010\n",
            "Epoch 5/50\n",
            "\u001b[1m43/43\u001b[0m \u001b[32m━━━━━━━━━━━━━━━━━━━━\u001b[0m\u001b[37m\u001b[0m \u001b[1m0s\u001b[0m 8ms/step - accuracy: 0.7283 - loss: 0.5366 - precision_15: 0.7210 - recall_15: 0.7629 - val_accuracy: 0.7850 - val_loss: 0.5280 - val_precision_15: 0.7677 - val_recall_15: 0.8151 - learning_rate: 0.0010\n",
            "Epoch 6/50\n",
            "\u001b[1m43/43\u001b[0m \u001b[32m━━━━━━━━━━━━━━━━━━━━\u001b[0m\u001b[37m\u001b[0m \u001b[1m0s\u001b[0m 7ms/step - accuracy: 0.7310 - loss: 0.5428 - precision_15: 0.7140 - recall_15: 0.7552 - val_accuracy: 0.7884 - val_loss: 0.4991 - val_precision_15: 0.7593 - val_recall_15: 0.8425 - learning_rate: 0.0010\n",
            "Epoch 7/50\n",
            "\u001b[1m43/43\u001b[0m \u001b[32m━━━━━━━━━━━━━━━━━━━━\u001b[0m\u001b[37m\u001b[0m \u001b[1m0s\u001b[0m 7ms/step - accuracy: 0.7682 - loss: 0.4886 - precision_15: 0.7539 - recall_15: 0.8005 - val_accuracy: 0.7884 - val_loss: 0.4802 - val_precision_15: 0.7593 - val_recall_15: 0.8425 - learning_rate: 0.0010\n",
            "Epoch 8/50\n",
            "\u001b[1m43/43\u001b[0m \u001b[32m━━━━━━━━━━━━━━━━━━━━\u001b[0m\u001b[37m\u001b[0m \u001b[1m1s\u001b[0m 7ms/step - accuracy: 0.7480 - loss: 0.5056 - precision_15: 0.7395 - recall_15: 0.7676 - val_accuracy: 0.7816 - val_loss: 0.4682 - val_precision_15: 0.7440 - val_recall_15: 0.8562 - learning_rate: 0.0010\n",
            "Epoch 9/50\n",
            "\u001b[1m43/43\u001b[0m \u001b[32m━━━━━━━━━━━━━━━━━━━━\u001b[0m\u001b[37m\u001b[0m \u001b[1m0s\u001b[0m 10ms/step - accuracy: 0.7856 - loss: 0.4497 - precision_15: 0.7638 - recall_15: 0.8116 - val_accuracy: 0.7918 - val_loss: 0.4506 - val_precision_15: 0.7576 - val_recall_15: 0.8562 - learning_rate: 0.0010\n",
            "Epoch 10/50\n",
            "\u001b[1m43/43\u001b[0m \u001b[32m━━━━━━━━━━━━━━━━━━━━\u001b[0m\u001b[37m\u001b[0m \u001b[1m1s\u001b[0m 12ms/step - accuracy: 0.7723 - loss: 0.4901 - precision_15: 0.7680 - recall_15: 0.7846 - val_accuracy: 0.7782 - val_loss: 0.4412 - val_precision_15: 0.7547 - val_recall_15: 0.8219 - learning_rate: 0.0010\n",
            "Epoch 11/50\n",
            "\u001b[1m43/43\u001b[0m \u001b[32m━━━━━━━━━━━━━━━━━━━━\u001b[0m\u001b[37m\u001b[0m \u001b[1m1s\u001b[0m 12ms/step - accuracy: 0.8214 - loss: 0.4309 - precision_15: 0.7902 - recall_15: 0.8706 - val_accuracy: 0.7816 - val_loss: 0.4406 - val_precision_15: 0.7531 - val_recall_15: 0.8356 - learning_rate: 0.0010\n",
            "Epoch 12/50\n",
            "\u001b[1m43/43\u001b[0m \u001b[32m━━━━━━━━━━━━━━━━━━━━\u001b[0m\u001b[37m\u001b[0m \u001b[1m1s\u001b[0m 13ms/step - accuracy: 0.7842 - loss: 0.4509 - precision_15: 0.7654 - recall_15: 0.8089 - val_accuracy: 0.7952 - val_loss: 0.4325 - val_precision_15: 0.7688 - val_recall_15: 0.8425 - learning_rate: 0.0010\n",
            "Epoch 13/50\n",
            "\u001b[1m43/43\u001b[0m \u001b[32m━━━━━━━━━━━━━━━━━━━━\u001b[0m\u001b[37m\u001b[0m \u001b[1m1s\u001b[0m 12ms/step - accuracy: 0.8083 - loss: 0.4226 - precision_15: 0.8003 - recall_15: 0.8306 - val_accuracy: 0.8123 - val_loss: 0.4233 - val_precision_15: 0.7898 - val_recall_15: 0.8493 - learning_rate: 0.0010\n",
            "Epoch 14/50\n",
            "\u001b[1m43/43\u001b[0m \u001b[32m━━━━━━━━━━━━━━━━━━━━\u001b[0m\u001b[37m\u001b[0m \u001b[1m0s\u001b[0m 8ms/step - accuracy: 0.8211 - loss: 0.3965 - precision_15: 0.8133 - recall_15: 0.8282 - val_accuracy: 0.7952 - val_loss: 0.4227 - val_precision_15: 0.7688 - val_recall_15: 0.8425 - learning_rate: 0.0010\n",
            "Epoch 15/50\n",
            "\u001b[1m43/43\u001b[0m \u001b[32m━━━━━━━━━━━━━━━━━━━━\u001b[0m\u001b[37m\u001b[0m \u001b[1m0s\u001b[0m 7ms/step - accuracy: 0.8318 - loss: 0.3835 - precision_15: 0.8116 - recall_15: 0.8530 - val_accuracy: 0.7918 - val_loss: 0.4172 - val_precision_15: 0.7640 - val_recall_15: 0.8425 - learning_rate: 0.0010\n",
            "Epoch 16/50\n",
            "\u001b[1m43/43\u001b[0m \u001b[32m━━━━━━━━━━━━━━━━━━━━\u001b[0m\u001b[37m\u001b[0m \u001b[1m1s\u001b[0m 7ms/step - accuracy: 0.8262 - loss: 0.3844 - precision_15: 0.8196 - recall_15: 0.8453 - val_accuracy: 0.8089 - val_loss: 0.4138 - val_precision_15: 0.7812 - val_recall_15: 0.8562 - learning_rate: 0.0010\n",
            "Epoch 17/50\n",
            "\u001b[1m43/43\u001b[0m \u001b[32m━━━━━━━━━━━━━━━━━━━━\u001b[0m\u001b[37m\u001b[0m \u001b[1m1s\u001b[0m 7ms/step - accuracy: 0.8488 - loss: 0.3690 - precision_15: 0.8383 - recall_15: 0.8704 - val_accuracy: 0.8191 - val_loss: 0.4173 - val_precision_15: 0.7925 - val_recall_15: 0.8630 - learning_rate: 0.0010\n",
            "Epoch 18/50\n",
            "\u001b[1m43/43\u001b[0m \u001b[32m━━━━━━━━━━━━━━━━━━━━\u001b[0m\u001b[37m\u001b[0m \u001b[1m0s\u001b[0m 8ms/step - accuracy: 0.8720 - loss: 0.3259 - precision_15: 0.8628 - recall_15: 0.8851 - val_accuracy: 0.8157 - val_loss: 0.4022 - val_precision_15: 0.7949 - val_recall_15: 0.8493 - learning_rate: 0.0010\n",
            "Epoch 19/50\n",
            "\u001b[1m43/43\u001b[0m \u001b[32m━━━━━━━━━━━━━━━━━━━━\u001b[0m\u001b[37m\u001b[0m \u001b[1m1s\u001b[0m 10ms/step - accuracy: 0.8727 - loss: 0.3405 - precision_15: 0.8690 - recall_15: 0.8742 - val_accuracy: 0.8191 - val_loss: 0.3991 - val_precision_15: 0.7925 - val_recall_15: 0.8630 - learning_rate: 0.0010\n",
            "Epoch 20/50\n",
            "\u001b[1m43/43\u001b[0m \u001b[32m━━━━━━━━━━━━━━━━━━━━\u001b[0m\u001b[37m\u001b[0m \u001b[1m1s\u001b[0m 7ms/step - accuracy: 0.8573 - loss: 0.3801 - precision_15: 0.8656 - recall_15: 0.8650 - val_accuracy: 0.8191 - val_loss: 0.3960 - val_precision_15: 0.7925 - val_recall_15: 0.8630 - learning_rate: 0.0010\n",
            "Epoch 21/50\n",
            "\u001b[1m43/43\u001b[0m \u001b[32m━━━━━━━━━━━━━━━━━━━━\u001b[0m\u001b[37m\u001b[0m \u001b[1m0s\u001b[0m 8ms/step - accuracy: 0.8829 - loss: 0.3108 - precision_15: 0.8837 - recall_15: 0.8891 - val_accuracy: 0.8294 - val_loss: 0.3863 - val_precision_15: 0.8243 - val_recall_15: 0.8356 - learning_rate: 0.0010\n",
            "Epoch 22/50\n",
            "\u001b[1m43/43\u001b[0m \u001b[32m━━━━━━━━━━━━━━━━━━━━\u001b[0m\u001b[37m\u001b[0m \u001b[1m0s\u001b[0m 8ms/step - accuracy: 0.8585 - loss: 0.3171 - precision_15: 0.8633 - recall_15: 0.8501 - val_accuracy: 0.8191 - val_loss: 0.4048 - val_precision_15: 0.7962 - val_recall_15: 0.8562 - learning_rate: 0.0010\n",
            "Epoch 23/50\n",
            "\u001b[1m43/43\u001b[0m \u001b[32m━━━━━━━━━━━━━━━━━━━━\u001b[0m\u001b[37m\u001b[0m \u001b[1m0s\u001b[0m 7ms/step - accuracy: 0.8969 - loss: 0.2822 - precision_15: 0.8950 - recall_15: 0.9009 - val_accuracy: 0.8396 - val_loss: 0.3942 - val_precision_15: 0.8235 - val_recall_15: 0.8630 - learning_rate: 0.0010\n",
            "Epoch 24/50\n",
            "\u001b[1m43/43\u001b[0m \u001b[32m━━━━━━━━━━━━━━━━━━━━\u001b[0m\u001b[37m\u001b[0m \u001b[1m1s\u001b[0m 8ms/step - accuracy: 0.8854 - loss: 0.2919 - precision_15: 0.8695 - recall_15: 0.9000 - val_accuracy: 0.8157 - val_loss: 0.4086 - val_precision_15: 0.7911 - val_recall_15: 0.8562 - learning_rate: 0.0010\n",
            "Epoch 25/50\n",
            "\u001b[1m43/43\u001b[0m \u001b[32m━━━━━━━━━━━━━━━━━━━━\u001b[0m\u001b[37m\u001b[0m \u001b[1m1s\u001b[0m 8ms/step - accuracy: 0.8933 - loss: 0.2804 - precision_15: 0.8757 - recall_15: 0.9075 - val_accuracy: 0.8225 - val_loss: 0.4053 - val_precision_15: 0.7937 - val_recall_15: 0.8699 - learning_rate: 5.0000e-04\n",
            "Epoch 26/50\n",
            "\u001b[1m43/43\u001b[0m \u001b[32m━━━━━━━━━━━━━━━━━━━━\u001b[0m\u001b[37m\u001b[0m \u001b[1m1s\u001b[0m 8ms/step - accuracy: 0.9006 - loss: 0.2646 - precision_15: 0.8976 - recall_15: 0.9044 - val_accuracy: 0.8123 - val_loss: 0.4042 - val_precision_15: 0.7862 - val_recall_15: 0.8562 - learning_rate: 5.0000e-04\n"
          ]
        }
      ]
    },
    {
      "cell_type": "code",
      "source": [
        "# --- Training History Visualization ---\n",
        "\n",
        "plt.figure(figsize=(12, 5))\n",
        "\n",
        "# Accuracy plot\n",
        "plt.subplot(1, 2, 1)\n",
        "plt.plot(history.history[\"accuracy\"], label=\"Train Accuracy\")\n",
        "plt.plot(history.history[\"val_accuracy\"], label=\"Val Accuracy\")\n",
        "plt.title(\"Model Accuracy Over Epochs\")\n",
        "plt.xlabel(\"Epochs\")\n",
        "plt.ylabel(\"Accuracy\")\n",
        "plt.legend()\n",
        "\n",
        "# Loss plot\n",
        "plt.subplot(1, 2, 2)\n",
        "plt.plot(history.history[\"loss\"], label=\"Train Loss\")\n",
        "plt.plot(history.history[\"val_loss\"], label=\"Val Loss\")\n",
        "plt.title(\"Model Loss Over Epochs\")\n",
        "plt.xlabel(\"Epochs\")\n",
        "plt.ylabel(\"Loss\")\n",
        "plt.legend()\n",
        "\n",
        "plt.tight_layout()\n",
        "plt.show()"
      ],
      "metadata": {
        "colab": {
          "base_uri": "https://localhost:8080/",
          "height": 507
        },
        "id": "Q5Y3NX-OVgE0",
        "outputId": "12a07ed1-f1b3-4d37-a0cc-f07ef15d6daa"
      },
      "execution_count": 152,
      "outputs": [
        {
          "output_type": "display_data",
          "data": {
            "text/plain": [
              "<Figure size 1200x500 with 2 Axes>"
            ],
            "image/png": "[encoded data removed]"
          },
          "metadata": {}
        }
      ]
    },
    {
      "cell_type": "code",
      "source": [
        "from sklearn.metrics import classification_report, confusion_matrix, ConfusionMatrixDisplay\n",
        "\n",
        "# Predict probabilities\n",
        "y_pred_probs = model.predict(X_test_processed)\n",
        "\n",
        "# Convert probabilities to binary (0/1)\n",
        "y_pred = (y_pred_probs >= 0.5).astype(int)\n",
        "\n",
        "# Classification report\n",
        "print(classification_report(y_test, y_pred))\n",
        "\n",
        "# Plot confusion matrix for test set\n",
        "cm = confusion_matrix(y_test, y_pred, normalize='true')\n",
        "cm_normalized = cm.astype('float') / cm.sum(axis=1)[:, np.newaxis]\n",
        "plt.figure(figsize=(8, 6))\n",
        "sns.heatmap(cm_normalized, annot=True, fmt='.2f', cmap='Blues', xticklabels=['No', 'Yes'], yticklabels=['No', 'Yes'])\n",
        "plt.title('Confusion Matrix - Test Set (Tuned Model)')\n",
        "plt.xlabel('Predicted')\n",
        "plt.ylabel('Actual')\n",
        "plt.show()"
      ],
      "metadata": {
        "colab": {
          "base_uri": "https://localhost:8080/",
          "height": 749
        },
        "id": "YJD7bmzcVoZ2",
        "outputId": "702def55-3ab9-4818-8d9b-eacd9e15ff10"
      },
      "execution_count": 153,
      "outputs": [
        {
          "output_type": "stream",
          "name": "stdout",
          "text": [
            "\u001b[1m10/10\u001b[0m \u001b[32m━━━━━━━━━━━━━━━━━━━━\u001b[0m\u001b[37m\u001b[0m \u001b[1m0s\u001b[0m 10ms/step\n",
            "              precision    recall  f1-score   support\n",
            "\n",
            "           0       0.83      0.82      0.83       147\n",
            "           1       0.82      0.84      0.83       146\n",
            "\n",
            "    accuracy                           0.83       293\n",
            "   macro avg       0.83      0.83      0.83       293\n",
            "weighted avg       0.83      0.83      0.83       293\n",
            "\n"
          ]
        },
        {
          "output_type": "display_data",
          "data": {
            "text/plain": [
              "<Figure size 800x600 with 2 Axes>"
            ],
            "image/png": "[encoded data removed]"
          },
          "metadata": {}
        }
      ]
    },
    {
      "cell_type": "markdown",
      "source": [
        "# Neural Network Performance Summary\n",
        "\n",
        "\n",
        "We implemented a feedforward neural network with three hidden layers (64 → 32 → 16), each followed by Batch Normalization and Dropout for stability and regularization. The model was trained with early stopping and a learning rate scheduler to prevent overfitting and optimize convergence.\n",
        "\n",
        "## Performance on Test Set\n",
        "\n",
        "* **Accuracy:** 83%\n",
        "* **Precision:** 82%\n",
        "* **Recall:** 85%\n",
        "## Analysis & Conclusion\n",
        "\n",
        "These results show that the neural network generalized well, with balanced precision and recall. Compared to the Random Forest, the NN performed slightly lower overall but demonstrated competitive results, especially in capturing true positives (higher recall). This suggests the NN was effective at identifying potential dropouts, though tree-based methods remained stronger in overall performance for this dataset size and can potentially improve with an increase in the size of the training dataset."
      ],
      "metadata": {
        "id": "MKrVM9JRcxMV"
      }
    }
  ]
}