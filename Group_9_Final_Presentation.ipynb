{
  "nbformat": 4,
  "nbformat_minor": 0,
  "metadata": {
    "colab": {
      "provenance": [],
      "authorship_tag": "ABX9TyNFh3+rr+poTgFSHjBhFdJB",
      "include_colab_link": true
    },
    "kernelspec": {
      "name": "python3",
      "display_name": "Python 3"
    },
    "language_info": {
      "name": "python"
    }
  },
  "cells": [
    {
      "cell_type": "markdown",
      "metadata": {
        "id": "view-in-github",
        "colab_type": "text"
      },
      "source": [
        "<a href=\"https://colab.research.google.com/github/Eugikats/student-retention-prediction/blob/main/Group_9_Final_Presentation.ipynb\" target=\"_parent\"><img src=\"https://colab.research.google.com/assets/colab-badge.svg\" alt=\"Open In Colab\"/></a>"
      ]
    },
    {
      "cell_type": "markdown",
      "source": [
        "**Group Members**\n",
        "\n",
        "Eugene Katusiime\n",
        "\n",
        "Stephen Njuki\n",
        "\n",
        "Joshua Kayongo\n",
        "\n",
        "Akwi Tracy Aidah\n",
        "\n",
        "Higenyi Yurri\n",
        "\n",
        "Nabuyondo Hamirat Shibah\n",
        "\n",
        "Alex Wadaba"
      ],
      "metadata": {
        "id": "dKMLC2CvKPBZ"
      }
    },
    {
      "cell_type": "code",
      "execution_count": null,
      "metadata": {
        "id": "MRZM18zIJuB1"
      },
      "outputs": [],
      "source": []
    }
  ]
}